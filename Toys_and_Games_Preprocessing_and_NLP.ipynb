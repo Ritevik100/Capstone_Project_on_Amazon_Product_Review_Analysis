{
 "cells": [
  {
   "cell_type": "code",
   "execution_count": 1,
   "metadata": {
    "colab": {
     "base_uri": "https://localhost:8080/"
    },
    "id": "_BuTVc76nJWT",
    "outputId": "2a02992b-0d85-4e1f-9623-633ad995f5e7"
   },
   "outputs": [],
   "source": [
    "#from google.colab import drive\n",
    "#drive.mount(\"/content/drive\")"
   ]
  },
  {
   "cell_type": "code",
   "execution_count": 2,
   "metadata": {
    "colab": {
     "base_uri": "https://localhost:8080/"
    },
    "id": "NCQ_eo0ulo7I",
    "outputId": "40e71160-aade-487b-a5da-68cd36188bf0"
   },
   "outputs": [
    {
     "name": "stderr",
     "output_type": "stream",
     "text": [
      "[nltk_data] Downloading package stopwords to C:\\Users\\ritev.LAPTOP-\n",
      "[nltk_data]     MOLE23F5\\AppData\\Roaming\\nltk_data...\n",
      "[nltk_data]   Package stopwords is already up-to-date!\n",
      "[nltk_data] Downloading package punkt to C:\\Users\\ritev.LAPTOP-\n",
      "[nltk_data]     MOLE23F5\\AppData\\Roaming\\nltk_data...\n",
      "[nltk_data]   Package punkt is already up-to-date!\n"
     ]
    }
   ],
   "source": [
    "import numpy as np\n",
    "import pandas as pd\n",
    "import re\n",
    "import spacy\n",
    "\n",
    "import matplotlib.pyplot as plt\n",
    "import seaborn as sns\n",
    "\n",
    "import nltk\n",
    "from nltk.corpus import stopwords\n",
    "from nltk.tokenize import word_tokenize\n",
    "from collections import Counter\n",
    "nltk.download('stopwords')\n",
    "nltk.download('punkt')\n",
    "\n",
    "nlp=spacy.load(\"en_core_web_sm\")\n",
    "en = spacy.load(\"en_core_web_sm\")                          \n",
    "Stop_words=en.Defaults.stop_words\n",
    "en.max_length=17000000 "
   ]
  },
  {
   "cell_type": "code",
   "execution_count": 3,
   "metadata": {
    "id": "5wZs1AyWnFLb"
   },
   "outputs": [],
   "source": [
    "#df_r=pd.read_csv(\"/content/drive/MyDrive/Final_Project/file2.csv\")\n",
    "#df_r"
   ]
  },
  {
   "cell_type": "code",
   "execution_count": 4,
   "metadata": {},
   "outputs": [
    {
     "data": {
      "text/html": [
       "<div>\n",
       "<style scoped>\n",
       "    .dataframe tbody tr th:only-of-type {\n",
       "        vertical-align: middle;\n",
       "    }\n",
       "\n",
       "    .dataframe tbody tr th {\n",
       "        vertical-align: top;\n",
       "    }\n",
       "\n",
       "    .dataframe thead th {\n",
       "        text-align: right;\n",
       "    }\n",
       "</style>\n",
       "<table border=\"1\" class=\"dataframe\">\n",
       "  <thead>\n",
       "    <tr style=\"text-align: right;\">\n",
       "      <th></th>\n",
       "      <th>Unnamed: 0</th>\n",
       "      <th>overall</th>\n",
       "      <th>reviewTime</th>\n",
       "      <th>reviewerID</th>\n",
       "      <th>asin</th>\n",
       "      <th>reviewerName</th>\n",
       "      <th>reviewText</th>\n",
       "    </tr>\n",
       "  </thead>\n",
       "  <tbody>\n",
       "    <tr>\n",
       "      <th>0</th>\n",
       "      <td>0</td>\n",
       "      <td>2.0</td>\n",
       "      <td>09 22, 2016</td>\n",
       "      <td>A1IDMI31WEANAF</td>\n",
       "      <td>0020232233</td>\n",
       "      <td>Mackenzie Kent</td>\n",
       "      <td>when it comes to a dm s screen the space on th...</td>\n",
       "    </tr>\n",
       "    <tr>\n",
       "      <th>1</th>\n",
       "      <td>1</td>\n",
       "      <td>1.0</td>\n",
       "      <td>09 18, 2016</td>\n",
       "      <td>A4BCEVVZ4Y3V3</td>\n",
       "      <td>0020232233</td>\n",
       "      <td>Jonathan Christian</td>\n",
       "      <td>an open letter to galeforce9 your unpainted mi...</td>\n",
       "    </tr>\n",
       "    <tr>\n",
       "      <th>2</th>\n",
       "      <td>2</td>\n",
       "      <td>3.0</td>\n",
       "      <td>09 12, 2016</td>\n",
       "      <td>A2EZ9PY1IHHBX0</td>\n",
       "      <td>0020232233</td>\n",
       "      <td>unpreparedtodie</td>\n",
       "      <td>nice art nice printing why two panels are fill...</td>\n",
       "    </tr>\n",
       "    <tr>\n",
       "      <th>3</th>\n",
       "      <td>3</td>\n",
       "      <td>5.0</td>\n",
       "      <td>03 2, 2017</td>\n",
       "      <td>A139PXTTC2LGHZ</td>\n",
       "      <td>0020232233</td>\n",
       "      <td>Ashley</td>\n",
       "      <td>amazing buy bought it as a gift for our new dm...</td>\n",
       "    </tr>\n",
       "    <tr>\n",
       "      <th>4</th>\n",
       "      <td>4</td>\n",
       "      <td>1.0</td>\n",
       "      <td>02 8, 2017</td>\n",
       "      <td>A3IB33V29XIL8O</td>\n",
       "      <td>0020232233</td>\n",
       "      <td>Oghma_EM</td>\n",
       "      <td>as my review of gf9 s previous screens these w...</td>\n",
       "    </tr>\n",
       "    <tr>\n",
       "      <th>...</th>\n",
       "      <td>...</td>\n",
       "      <td>...</td>\n",
       "      <td>...</td>\n",
       "      <td>...</td>\n",
       "      <td>...</td>\n",
       "      <td>...</td>\n",
       "      <td>...</td>\n",
       "    </tr>\n",
       "    <tr>\n",
       "      <th>8193610</th>\n",
       "      <td>8201226</td>\n",
       "      <td>5.0</td>\n",
       "      <td>12 7, 2017</td>\n",
       "      <td>A3OCDEVI6FGUWU</td>\n",
       "      <td>B01HJBAKIO</td>\n",
       "      <td>wilson</td>\n",
       "      <td>my son is happy</td>\n",
       "    </tr>\n",
       "    <tr>\n",
       "      <th>8193611</th>\n",
       "      <td>8201227</td>\n",
       "      <td>5.0</td>\n",
       "      <td>01 23, 2016</td>\n",
       "      <td>A1KTVUVADLKWZO</td>\n",
       "      <td>B01HJHA7GI</td>\n",
       "      <td>Raven the Maven</td>\n",
       "      <td>e my ten month old has had this for a few mont...</td>\n",
       "    </tr>\n",
       "    <tr>\n",
       "      <th>8193612</th>\n",
       "      <td>8201228</td>\n",
       "      <td>5.0</td>\n",
       "      <td>02 8, 2015</td>\n",
       "      <td>A2QCA9OE62IPZ4</td>\n",
       "      <td>B01HJHA7GI</td>\n",
       "      <td>crhug</td>\n",
       "      <td>perfect toy to keep baby amused</td>\n",
       "    </tr>\n",
       "    <tr>\n",
       "      <th>8193613</th>\n",
       "      <td>8201229</td>\n",
       "      <td>5.0</td>\n",
       "      <td>12 31, 2014</td>\n",
       "      <td>A3N28JAZYS4L9O</td>\n",
       "      <td>B01HJHA7GI</td>\n",
       "      <td>Cindy Volk</td>\n",
       "      <td>perfect</td>\n",
       "    </tr>\n",
       "    <tr>\n",
       "      <th>8193614</th>\n",
       "      <td>8201230</td>\n",
       "      <td>5.0</td>\n",
       "      <td>11 11, 2014</td>\n",
       "      <td>A2OGYZRYRSVQZJ</td>\n",
       "      <td>B01HJHA7GI</td>\n",
       "      <td>Ostinato_Parody</td>\n",
       "      <td>i am based in the uk and i bought this item as...</td>\n",
       "    </tr>\n",
       "  </tbody>\n",
       "</table>\n",
       "<p>8193615 rows × 7 columns</p>\n",
       "</div>"
      ],
      "text/plain": [
       "         Unnamed: 0  overall   reviewTime      reviewerID        asin  \\\n",
       "0                 0      2.0  09 22, 2016  A1IDMI31WEANAF  0020232233   \n",
       "1                 1      1.0  09 18, 2016   A4BCEVVZ4Y3V3  0020232233   \n",
       "2                 2      3.0  09 12, 2016  A2EZ9PY1IHHBX0  0020232233   \n",
       "3                 3      5.0   03 2, 2017  A139PXTTC2LGHZ  0020232233   \n",
       "4                 4      1.0   02 8, 2017  A3IB33V29XIL8O  0020232233   \n",
       "...             ...      ...          ...             ...         ...   \n",
       "8193610     8201226      5.0   12 7, 2017  A3OCDEVI6FGUWU  B01HJBAKIO   \n",
       "8193611     8201227      5.0  01 23, 2016  A1KTVUVADLKWZO  B01HJHA7GI   \n",
       "8193612     8201228      5.0   02 8, 2015  A2QCA9OE62IPZ4  B01HJHA7GI   \n",
       "8193613     8201229      5.0  12 31, 2014  A3N28JAZYS4L9O  B01HJHA7GI   \n",
       "8193614     8201230      5.0  11 11, 2014  A2OGYZRYRSVQZJ  B01HJHA7GI   \n",
       "\n",
       "               reviewerName                                         reviewText  \n",
       "0            Mackenzie Kent  when it comes to a dm s screen the space on th...  \n",
       "1        Jonathan Christian  an open letter to galeforce9 your unpainted mi...  \n",
       "2           unpreparedtodie  nice art nice printing why two panels are fill...  \n",
       "3                    Ashley  amazing buy bought it as a gift for our new dm...  \n",
       "4                  Oghma_EM  as my review of gf9 s previous screens these w...  \n",
       "...                     ...                                                ...  \n",
       "8193610              wilson                                    my son is happy  \n",
       "8193611     Raven the Maven  e my ten month old has had this for a few mont...  \n",
       "8193612               crhug                    perfect toy to keep baby amused  \n",
       "8193613          Cindy Volk                                            perfect  \n",
       "8193614     Ostinato_Parody  i am based in the uk and i bought this item as...  \n",
       "\n",
       "[8193615 rows x 7 columns]"
      ]
     },
     "execution_count": 4,
     "metadata": {},
     "output_type": "execute_result"
    }
   ],
   "source": [
    "df_r=pd.read_csv(\"file2.csv\")\n",
    "df_r"
   ]
  },
  {
   "cell_type": "code",
   "execution_count": 5,
   "metadata": {},
   "outputs": [
    {
     "data": {
      "text/plain": [
       "(8193615, 7)"
      ]
     },
     "execution_count": 5,
     "metadata": {},
     "output_type": "execute_result"
    }
   ],
   "source": [
    "df_r.shape"
   ]
  },
  {
   "cell_type": "code",
   "execution_count": 6,
   "metadata": {},
   "outputs": [
    {
     "data": {
      "text/html": [
       "<div>\n",
       "<style scoped>\n",
       "    .dataframe tbody tr th:only-of-type {\n",
       "        vertical-align: middle;\n",
       "    }\n",
       "\n",
       "    .dataframe tbody tr th {\n",
       "        vertical-align: top;\n",
       "    }\n",
       "\n",
       "    .dataframe thead th {\n",
       "        text-align: right;\n",
       "    }\n",
       "</style>\n",
       "<table border=\"1\" class=\"dataframe\">\n",
       "  <thead>\n",
       "    <tr style=\"text-align: right;\">\n",
       "      <th></th>\n",
       "      <th>Unnamed: 0</th>\n",
       "      <th>overall</th>\n",
       "      <th>reviewTime</th>\n",
       "      <th>reviewerID</th>\n",
       "      <th>asin</th>\n",
       "      <th>reviewerName</th>\n",
       "      <th>reviewText</th>\n",
       "    </tr>\n",
       "  </thead>\n",
       "  <tbody>\n",
       "    <tr>\n",
       "      <th>0</th>\n",
       "      <td>0</td>\n",
       "      <td>2.0</td>\n",
       "      <td>09 22, 2016</td>\n",
       "      <td>A1IDMI31WEANAF</td>\n",
       "      <td>0020232233</td>\n",
       "      <td>Mackenzie Kent</td>\n",
       "      <td>when it comes to a dm s screen the space on th...</td>\n",
       "    </tr>\n",
       "    <tr>\n",
       "      <th>1</th>\n",
       "      <td>1</td>\n",
       "      <td>1.0</td>\n",
       "      <td>09 18, 2016</td>\n",
       "      <td>A4BCEVVZ4Y3V3</td>\n",
       "      <td>0020232233</td>\n",
       "      <td>Jonathan Christian</td>\n",
       "      <td>an open letter to galeforce9 your unpainted mi...</td>\n",
       "    </tr>\n",
       "    <tr>\n",
       "      <th>2</th>\n",
       "      <td>2</td>\n",
       "      <td>3.0</td>\n",
       "      <td>09 12, 2016</td>\n",
       "      <td>A2EZ9PY1IHHBX0</td>\n",
       "      <td>0020232233</td>\n",
       "      <td>unpreparedtodie</td>\n",
       "      <td>nice art nice printing why two panels are fill...</td>\n",
       "    </tr>\n",
       "    <tr>\n",
       "      <th>3</th>\n",
       "      <td>3</td>\n",
       "      <td>5.0</td>\n",
       "      <td>03 2, 2017</td>\n",
       "      <td>A139PXTTC2LGHZ</td>\n",
       "      <td>0020232233</td>\n",
       "      <td>Ashley</td>\n",
       "      <td>amazing buy bought it as a gift for our new dm...</td>\n",
       "    </tr>\n",
       "    <tr>\n",
       "      <th>4</th>\n",
       "      <td>4</td>\n",
       "      <td>1.0</td>\n",
       "      <td>02 8, 2017</td>\n",
       "      <td>A3IB33V29XIL8O</td>\n",
       "      <td>0020232233</td>\n",
       "      <td>Oghma_EM</td>\n",
       "      <td>as my review of gf9 s previous screens these w...</td>\n",
       "    </tr>\n",
       "  </tbody>\n",
       "</table>\n",
       "</div>"
      ],
      "text/plain": [
       "   Unnamed: 0  overall   reviewTime      reviewerID        asin  \\\n",
       "0           0      2.0  09 22, 2016  A1IDMI31WEANAF  0020232233   \n",
       "1           1      1.0  09 18, 2016   A4BCEVVZ4Y3V3  0020232233   \n",
       "2           2      3.0  09 12, 2016  A2EZ9PY1IHHBX0  0020232233   \n",
       "3           3      5.0   03 2, 2017  A139PXTTC2LGHZ  0020232233   \n",
       "4           4      1.0   02 8, 2017  A3IB33V29XIL8O  0020232233   \n",
       "\n",
       "         reviewerName                                         reviewText  \n",
       "0      Mackenzie Kent  when it comes to a dm s screen the space on th...  \n",
       "1  Jonathan Christian  an open letter to galeforce9 your unpainted mi...  \n",
       "2     unpreparedtodie  nice art nice printing why two panels are fill...  \n",
       "3              Ashley  amazing buy bought it as a gift for our new dm...  \n",
       "4            Oghma_EM  as my review of gf9 s previous screens these w...  "
      ]
     },
     "execution_count": 6,
     "metadata": {},
     "output_type": "execute_result"
    }
   ],
   "source": [
    "df_r.head()"
   ]
  },
  {
   "cell_type": "code",
   "execution_count": 7,
   "metadata": {},
   "outputs": [
    {
     "data": {
      "text/html": [
       "<div>\n",
       "<style scoped>\n",
       "    .dataframe tbody tr th:only-of-type {\n",
       "        vertical-align: middle;\n",
       "    }\n",
       "\n",
       "    .dataframe tbody tr th {\n",
       "        vertical-align: top;\n",
       "    }\n",
       "\n",
       "    .dataframe thead th {\n",
       "        text-align: right;\n",
       "    }\n",
       "</style>\n",
       "<table border=\"1\" class=\"dataframe\">\n",
       "  <thead>\n",
       "    <tr style=\"text-align: right;\">\n",
       "      <th></th>\n",
       "      <th>Unnamed: 0</th>\n",
       "      <th>overall</th>\n",
       "      <th>reviewTime</th>\n",
       "      <th>reviewerID</th>\n",
       "      <th>asin</th>\n",
       "      <th>reviewerName</th>\n",
       "      <th>reviewText</th>\n",
       "    </tr>\n",
       "  </thead>\n",
       "  <tbody>\n",
       "    <tr>\n",
       "      <th>8193610</th>\n",
       "      <td>8201226</td>\n",
       "      <td>5.0</td>\n",
       "      <td>12 7, 2017</td>\n",
       "      <td>A3OCDEVI6FGUWU</td>\n",
       "      <td>B01HJBAKIO</td>\n",
       "      <td>wilson</td>\n",
       "      <td>my son is happy</td>\n",
       "    </tr>\n",
       "    <tr>\n",
       "      <th>8193611</th>\n",
       "      <td>8201227</td>\n",
       "      <td>5.0</td>\n",
       "      <td>01 23, 2016</td>\n",
       "      <td>A1KTVUVADLKWZO</td>\n",
       "      <td>B01HJHA7GI</td>\n",
       "      <td>Raven the Maven</td>\n",
       "      <td>e my ten month old has had this for a few mont...</td>\n",
       "    </tr>\n",
       "    <tr>\n",
       "      <th>8193612</th>\n",
       "      <td>8201228</td>\n",
       "      <td>5.0</td>\n",
       "      <td>02 8, 2015</td>\n",
       "      <td>A2QCA9OE62IPZ4</td>\n",
       "      <td>B01HJHA7GI</td>\n",
       "      <td>crhug</td>\n",
       "      <td>perfect toy to keep baby amused</td>\n",
       "    </tr>\n",
       "    <tr>\n",
       "      <th>8193613</th>\n",
       "      <td>8201229</td>\n",
       "      <td>5.0</td>\n",
       "      <td>12 31, 2014</td>\n",
       "      <td>A3N28JAZYS4L9O</td>\n",
       "      <td>B01HJHA7GI</td>\n",
       "      <td>Cindy Volk</td>\n",
       "      <td>perfect</td>\n",
       "    </tr>\n",
       "    <tr>\n",
       "      <th>8193614</th>\n",
       "      <td>8201230</td>\n",
       "      <td>5.0</td>\n",
       "      <td>11 11, 2014</td>\n",
       "      <td>A2OGYZRYRSVQZJ</td>\n",
       "      <td>B01HJHA7GI</td>\n",
       "      <td>Ostinato_Parody</td>\n",
       "      <td>i am based in the uk and i bought this item as...</td>\n",
       "    </tr>\n",
       "  </tbody>\n",
       "</table>\n",
       "</div>"
      ],
      "text/plain": [
       "         Unnamed: 0  overall   reviewTime      reviewerID        asin  \\\n",
       "8193610     8201226      5.0   12 7, 2017  A3OCDEVI6FGUWU  B01HJBAKIO   \n",
       "8193611     8201227      5.0  01 23, 2016  A1KTVUVADLKWZO  B01HJHA7GI   \n",
       "8193612     8201228      5.0   02 8, 2015  A2QCA9OE62IPZ4  B01HJHA7GI   \n",
       "8193613     8201229      5.0  12 31, 2014  A3N28JAZYS4L9O  B01HJHA7GI   \n",
       "8193614     8201230      5.0  11 11, 2014  A2OGYZRYRSVQZJ  B01HJHA7GI   \n",
       "\n",
       "            reviewerName                                         reviewText  \n",
       "8193610           wilson                                    my son is happy  \n",
       "8193611  Raven the Maven  e my ten month old has had this for a few mont...  \n",
       "8193612            crhug                    perfect toy to keep baby amused  \n",
       "8193613       Cindy Volk                                            perfect  \n",
       "8193614  Ostinato_Parody  i am based in the uk and i bought this item as...  "
      ]
     },
     "execution_count": 7,
     "metadata": {},
     "output_type": "execute_result"
    }
   ],
   "source": [
    "df_r.tail()"
   ]
  },
  {
   "cell_type": "code",
   "execution_count": 8,
   "metadata": {},
   "outputs": [
    {
     "data": {
      "text/plain": [
       "Unnamed: 0        int64\n",
       "overall         float64\n",
       "reviewTime       object\n",
       "reviewerID       object\n",
       "asin             object\n",
       "reviewerName     object\n",
       "reviewText       object\n",
       "dtype: object"
      ]
     },
     "execution_count": 8,
     "metadata": {},
     "output_type": "execute_result"
    }
   ],
   "source": [
    "df_r.dtypes"
   ]
  },
  {
   "cell_type": "code",
   "execution_count": 9,
   "metadata": {},
   "outputs": [
    {
     "data": {
      "text/plain": [
       "Index(['Unnamed: 0', 'overall', 'reviewTime', 'reviewerID', 'asin',\n",
       "       'reviewerName', 'reviewText'],\n",
       "      dtype='object')"
      ]
     },
     "execution_count": 9,
     "metadata": {},
     "output_type": "execute_result"
    }
   ],
   "source": [
    "df_r.columns"
   ]
  },
  {
   "cell_type": "code",
   "execution_count": 10,
   "metadata": {},
   "outputs": [
    {
     "data": {
      "text/html": [
       "<div>\n",
       "<style scoped>\n",
       "    .dataframe tbody tr th:only-of-type {\n",
       "        vertical-align: middle;\n",
       "    }\n",
       "\n",
       "    .dataframe tbody tr th {\n",
       "        vertical-align: top;\n",
       "    }\n",
       "\n",
       "    .dataframe thead th {\n",
       "        text-align: right;\n",
       "    }\n",
       "</style>\n",
       "<table border=\"1\" class=\"dataframe\">\n",
       "  <thead>\n",
       "    <tr style=\"text-align: right;\">\n",
       "      <th></th>\n",
       "      <th>Unnamed: 0</th>\n",
       "      <th>overall</th>\n",
       "    </tr>\n",
       "  </thead>\n",
       "  <tbody>\n",
       "    <tr>\n",
       "      <th>count</th>\n",
       "      <td>8.193615e+06</td>\n",
       "      <td>8.193615e+06</td>\n",
       "    </tr>\n",
       "    <tr>\n",
       "      <th>mean</th>\n",
       "      <td>4.099853e+06</td>\n",
       "      <td>4.228982e+00</td>\n",
       "    </tr>\n",
       "    <tr>\n",
       "      <th>std</th>\n",
       "      <td>2.367464e+06</td>\n",
       "      <td>1.280675e+00</td>\n",
       "    </tr>\n",
       "    <tr>\n",
       "      <th>min</th>\n",
       "      <td>0.000000e+00</td>\n",
       "      <td>1.000000e+00</td>\n",
       "    </tr>\n",
       "    <tr>\n",
       "      <th>25%</th>\n",
       "      <td>2.049468e+06</td>\n",
       "      <td>4.000000e+00</td>\n",
       "    </tr>\n",
       "    <tr>\n",
       "      <th>50%</th>\n",
       "      <td>4.099435e+06</td>\n",
       "      <td>5.000000e+00</td>\n",
       "    </tr>\n",
       "    <tr>\n",
       "      <th>75%</th>\n",
       "      <td>6.150128e+06</td>\n",
       "      <td>5.000000e+00</td>\n",
       "    </tr>\n",
       "    <tr>\n",
       "      <th>max</th>\n",
       "      <td>8.201230e+06</td>\n",
       "      <td>5.000000e+00</td>\n",
       "    </tr>\n",
       "  </tbody>\n",
       "</table>\n",
       "</div>"
      ],
      "text/plain": [
       "         Unnamed: 0       overall\n",
       "count  8.193615e+06  8.193615e+06\n",
       "mean   4.099853e+06  4.228982e+00\n",
       "std    2.367464e+06  1.280675e+00\n",
       "min    0.000000e+00  1.000000e+00\n",
       "25%    2.049468e+06  4.000000e+00\n",
       "50%    4.099435e+06  5.000000e+00\n",
       "75%    6.150128e+06  5.000000e+00\n",
       "max    8.201230e+06  5.000000e+00"
      ]
     },
     "execution_count": 10,
     "metadata": {},
     "output_type": "execute_result"
    }
   ],
   "source": [
    "df_r.describe()"
   ]
  },
  {
   "cell_type": "code",
   "execution_count": 11,
   "metadata": {},
   "outputs": [
    {
     "data": {
      "text/html": [
       "<div>\n",
       "<style scoped>\n",
       "    .dataframe tbody tr th:only-of-type {\n",
       "        vertical-align: middle;\n",
       "    }\n",
       "\n",
       "    .dataframe tbody tr th {\n",
       "        vertical-align: top;\n",
       "    }\n",
       "\n",
       "    .dataframe thead th {\n",
       "        text-align: right;\n",
       "    }\n",
       "</style>\n",
       "<table border=\"1\" class=\"dataframe\">\n",
       "  <thead>\n",
       "    <tr style=\"text-align: right;\">\n",
       "      <th></th>\n",
       "      <th>reviewTime</th>\n",
       "      <th>reviewerID</th>\n",
       "      <th>asin</th>\n",
       "      <th>reviewerName</th>\n",
       "      <th>reviewText</th>\n",
       "    </tr>\n",
       "  </thead>\n",
       "  <tbody>\n",
       "    <tr>\n",
       "      <th>count</th>\n",
       "      <td>8193615</td>\n",
       "      <td>8193615</td>\n",
       "      <td>8193615</td>\n",
       "      <td>8193279</td>\n",
       "      <td>8189839</td>\n",
       "    </tr>\n",
       "    <tr>\n",
       "      <th>unique</th>\n",
       "      <td>6651</td>\n",
       "      <td>4201179</td>\n",
       "      <td>624631</td>\n",
       "      <td>2384651</td>\n",
       "      <td>6678409</td>\n",
       "    </tr>\n",
       "    <tr>\n",
       "      <th>top</th>\n",
       "      <td>12 27, 2016</td>\n",
       "      <td>AJGU56YG8G1DQ</td>\n",
       "      <td>B000YDDF6O</td>\n",
       "      <td>Amazon Customer</td>\n",
       "      <td>great</td>\n",
       "    </tr>\n",
       "    <tr>\n",
       "      <th>freq</th>\n",
       "      <td>18264</td>\n",
       "      <td>1217</td>\n",
       "      <td>12666</td>\n",
       "      <td>674611</td>\n",
       "      <td>49356</td>\n",
       "    </tr>\n",
       "  </tbody>\n",
       "</table>\n",
       "</div>"
      ],
      "text/plain": [
       "         reviewTime     reviewerID        asin     reviewerName reviewText\n",
       "count       8193615        8193615     8193615          8193279    8189839\n",
       "unique         6651        4201179      624631          2384651    6678409\n",
       "top     12 27, 2016  AJGU56YG8G1DQ  B000YDDF6O  Amazon Customer      great\n",
       "freq          18264           1217       12666           674611      49356"
      ]
     },
     "execution_count": 11,
     "metadata": {},
     "output_type": "execute_result"
    }
   ],
   "source": [
    "df_r.describe(include='object')"
   ]
  },
  {
   "cell_type": "code",
   "execution_count": 12,
   "metadata": {},
   "outputs": [
    {
     "name": "stdout",
     "output_type": "stream",
     "text": [
      "<class 'pandas.core.frame.DataFrame'>\n",
      "RangeIndex: 8193615 entries, 0 to 8193614\n",
      "Data columns (total 7 columns):\n",
      " #   Column        Dtype  \n",
      "---  ------        -----  \n",
      " 0   Unnamed: 0    int64  \n",
      " 1   overall       float64\n",
      " 2   reviewTime    object \n",
      " 3   reviewerID    object \n",
      " 4   asin          object \n",
      " 5   reviewerName  object \n",
      " 6   reviewText    object \n",
      "dtypes: float64(1), int64(1), object(5)\n",
      "memory usage: 437.6+ MB\n"
     ]
    }
   ],
   "source": [
    "df_r.info()"
   ]
  },
  {
   "cell_type": "code",
   "execution_count": 13,
   "metadata": {
    "colab": {
     "base_uri": "https://localhost:8080/"
    },
    "id": "YPTM0h6-pSnG",
    "outputId": "e366f3d1-5db6-43b9-d257-2d90d25bc620"
   },
   "outputs": [
    {
     "data": {
      "text/plain": [
       "Unnamed: 0         0\n",
       "overall            0\n",
       "reviewTime         0\n",
       "reviewerID         0\n",
       "asin               0\n",
       "reviewerName     336\n",
       "reviewText      3776\n",
       "dtype: int64"
      ]
     },
     "execution_count": 13,
     "metadata": {},
     "output_type": "execute_result"
    }
   ],
   "source": [
    "df_r.isnull().sum()"
   ]
  },
  {
   "cell_type": "code",
   "execution_count": 14,
   "metadata": {
    "id": "SjApeuW-pSqH"
   },
   "outputs": [],
   "source": [
    "# Cleaning\n",
    "def cleaning(text):\n",
    "\n",
    "  text = re.sub(\"[^0-9A-Za-z- ]+\", \" \", text)  # Remove all non-letters and non-spaces except for hyphens and digits\n",
    "\n",
    "  text = re.sub(\"(?<!\\w)\\d+\", \"\", text)  # Remove all numbers except those attached to a word\n",
    "\n",
    "  text = re.sub(\"-(?!\\w)|(?<!\\w)-\", \"\", text)  # Remove all hyphens except between two words\n",
    "\n",
    "  text = \" \".join(text.split()) # Remove multiple spaces and lowercase everything\n",
    "\n",
    "  text = text.lower() #convert all words to lower case\n",
    "\n",
    "  return text"
   ]
  },
  {
   "cell_type": "code",
   "execution_count": 15,
   "metadata": {
    "id": "_jWdfGOSBxuM"
   },
   "outputs": [],
   "source": [
    "col_r=['reviewTime','reviewerID']\n",
    "for i in col_r:\n",
    "  df_r[i]=df_r[i].apply(str)\n",
    "  df_r[i]=df_r[i].apply(cleaning)"
   ]
  },
  {
   "cell_type": "code",
   "execution_count": 16,
   "metadata": {
    "id": "Cen_4mKN_ctC"
   },
   "outputs": [],
   "source": [
    "df_r.drop('Unnamed: 0',axis='columns',inplace=True)"
   ]
  },
  {
   "cell_type": "code",
   "execution_count": 17,
   "metadata": {
    "id": "RnoVwkhdcvkx"
   },
   "outputs": [],
   "source": [
    "df_r.dropna(inplace=True)"
   ]
  },
  {
   "cell_type": "code",
   "execution_count": 18,
   "metadata": {
    "id": "zX2LSvh4gyg2"
   },
   "outputs": [
    {
     "data": {
      "text/html": [
       "<div>\n",
       "<style scoped>\n",
       "    .dataframe tbody tr th:only-of-type {\n",
       "        vertical-align: middle;\n",
       "    }\n",
       "\n",
       "    .dataframe tbody tr th {\n",
       "        vertical-align: top;\n",
       "    }\n",
       "\n",
       "    .dataframe thead th {\n",
       "        text-align: right;\n",
       "    }\n",
       "</style>\n",
       "<table border=\"1\" class=\"dataframe\">\n",
       "  <thead>\n",
       "    <tr style=\"text-align: right;\">\n",
       "      <th></th>\n",
       "      <th>Unnamed: 0</th>\n",
       "      <th>category</th>\n",
       "      <th>description</th>\n",
       "      <th>title</th>\n",
       "      <th>brand</th>\n",
       "      <th>main_cat</th>\n",
       "      <th>asin</th>\n",
       "    </tr>\n",
       "  </thead>\n",
       "  <tbody>\n",
       "    <tr>\n",
       "      <th>0</th>\n",
       "      <td>0</td>\n",
       "      <td>['Toys &amp; Games', 'Puzzles', 'Jigsaw Puzzles']</td>\n",
       "      <td>[\"Three Dr. Suess' Puzzles: Green Eggs and Ham...</td>\n",
       "      <td>Dr. Suess 19163 Dr. Seuss Puzzle 3 Pack Bundle</td>\n",
       "      <td>Dr. Seuss</td>\n",
       "      <td>Toys &amp; Games</td>\n",
       "      <td>0000191639</td>\n",
       "    </tr>\n",
       "    <tr>\n",
       "      <th>1</th>\n",
       "      <td>1</td>\n",
       "      <td>[]</td>\n",
       "      <td>['&lt;b&gt;Prepare to be Afraid!&lt;/b&gt;&lt;br /&gt;&lt;br /&gt;The ...</td>\n",
       "      <td>Pathfinder: Book of Beasts - Legendary Foes</td>\n",
       "      <td>Pathfinder Roleplaying Jon Brazer Productions</td>\n",
       "      <td>Toys &amp; Games</td>\n",
       "      <td>0004950763</td>\n",
       "    </tr>\n",
       "    <tr>\n",
       "      <th>2</th>\n",
       "      <td>2</td>\n",
       "      <td>[]</td>\n",
       "      <td>[]</td>\n",
       "      <td>Nursery Rhymes Felt Book</td>\n",
       "      <td>Betty Lukens</td>\n",
       "      <td>Toys &amp; Games</td>\n",
       "      <td>0005069491</td>\n",
       "    </tr>\n",
       "    <tr>\n",
       "      <th>3</th>\n",
       "      <td>3</td>\n",
       "      <td>['Toys &amp; Games', 'Games', 'Card Games']</td>\n",
       "      <td>['Blitz Vintage Card Game']</td>\n",
       "      <td>Dutch Blitz Card Game</td>\n",
       "      <td>Dutch Blitz Games Co</td>\n",
       "      <td>Toys &amp; Games</td>\n",
       "      <td>0004983289</td>\n",
       "    </tr>\n",
       "    <tr>\n",
       "      <th>4</th>\n",
       "      <td>4</td>\n",
       "      <td>[]</td>\n",
       "      <td>['Marvel SuperHeroes themed \"magic ink\" colori...</td>\n",
       "      <td>Magic Pen Painting (Marvel Super Heroes)</td>\n",
       "      <td>Lee Publications</td>\n",
       "      <td>Toys &amp; Games</td>\n",
       "      <td>0006466222</td>\n",
       "    </tr>\n",
       "    <tr>\n",
       "      <th>...</th>\n",
       "      <td>...</td>\n",
       "      <td>...</td>\n",
       "      <td>...</td>\n",
       "      <td>...</td>\n",
       "      <td>...</td>\n",
       "      <td>...</td>\n",
       "      <td>...</td>\n",
       "    </tr>\n",
       "    <tr>\n",
       "      <th>633878</th>\n",
       "      <td>633878</td>\n",
       "      <td>['Toys &amp; Games', 'Hobbies', 'Remote &amp; App Cont...</td>\n",
       "      <td>[]</td>\n",
       "      <td>Geilienergy 6V 2000mAh NiMH RX Battery Packs w...</td>\n",
       "      <td>GEILIENERGY</td>\n",
       "      <td>Tools &amp; Home Improvement</td>\n",
       "      <td>B01HJDFWDK</td>\n",
       "    </tr>\n",
       "    <tr>\n",
       "      <th>633879</th>\n",
       "      <td>633879</td>\n",
       "      <td>['Toys &amp; Games', 'Sports &amp; Outdoor Play', 'Poo...</td>\n",
       "      <td>['Suitable for children ages 6-36 Months old.&lt;...</td>\n",
       "      <td>Micord Baby Float Toddler Swimming Inflatable ...</td>\n",
       "      <td>Micord</td>\n",
       "      <td>Toys &amp; Games</td>\n",
       "      <td>B01HJDGVFS</td>\n",
       "    </tr>\n",
       "    <tr>\n",
       "      <th>633880</th>\n",
       "      <td>633880</td>\n",
       "      <td>['Toys &amp; Games', 'Sports &amp; Outdoor Play', 'Poo...</td>\n",
       "      <td>[\"Just choose it, make you forget all the trou...</td>\n",
       "      <td>Premium Swimming Pool Float Hammock, Inflatabl...</td>\n",
       "      <td>WavePy</td>\n",
       "      <td>Toys &amp; Games</td>\n",
       "      <td>B01HJDUNRU</td>\n",
       "    </tr>\n",
       "    <tr>\n",
       "      <th>633881</th>\n",
       "      <td>633881</td>\n",
       "      <td>['Toys &amp; Games', 'Learning &amp; Education', 'Earl...</td>\n",
       "      <td>[]</td>\n",
       "      <td>Lewo Wooden Baby Toddler Toys Circle First Bea...</td>\n",
       "      <td>Lewo</td>\n",
       "      <td>Toys &amp; Games</td>\n",
       "      <td>B01HJFAGJI</td>\n",
       "    </tr>\n",
       "    <tr>\n",
       "      <th>633882</th>\n",
       "      <td>633882</td>\n",
       "      <td>['Toys &amp; Games', 'Baby &amp; Toddler Toys', 'Music...</td>\n",
       "      <td>[]</td>\n",
       "      <td>Baby Einstein Take Along Tunes Musical Toy</td>\n",
       "      <td>Baby Einstein</td>\n",
       "      <td>Baby</td>\n",
       "      <td>B01HJHA7GI</td>\n",
       "    </tr>\n",
       "  </tbody>\n",
       "</table>\n",
       "<p>633883 rows × 7 columns</p>\n",
       "</div>"
      ],
      "text/plain": [
       "        Unnamed: 0                                           category  \\\n",
       "0                0      ['Toys & Games', 'Puzzles', 'Jigsaw Puzzles']   \n",
       "1                1                                                 []   \n",
       "2                2                                                 []   \n",
       "3                3            ['Toys & Games', 'Games', 'Card Games']   \n",
       "4                4                                                 []   \n",
       "...            ...                                                ...   \n",
       "633878      633878  ['Toys & Games', 'Hobbies', 'Remote & App Cont...   \n",
       "633879      633879  ['Toys & Games', 'Sports & Outdoor Play', 'Poo...   \n",
       "633880      633880  ['Toys & Games', 'Sports & Outdoor Play', 'Poo...   \n",
       "633881      633881  ['Toys & Games', 'Learning & Education', 'Earl...   \n",
       "633882      633882  ['Toys & Games', 'Baby & Toddler Toys', 'Music...   \n",
       "\n",
       "                                              description  \\\n",
       "0       [\"Three Dr. Suess' Puzzles: Green Eggs and Ham...   \n",
       "1       ['<b>Prepare to be Afraid!</b><br /><br />The ...   \n",
       "2                                                      []   \n",
       "3                             ['Blitz Vintage Card Game']   \n",
       "4       ['Marvel SuperHeroes themed \"magic ink\" colori...   \n",
       "...                                                   ...   \n",
       "633878                                                 []   \n",
       "633879  ['Suitable for children ages 6-36 Months old.<...   \n",
       "633880  [\"Just choose it, make you forget all the trou...   \n",
       "633881                                                 []   \n",
       "633882                                                 []   \n",
       "\n",
       "                                                    title  \\\n",
       "0          Dr. Suess 19163 Dr. Seuss Puzzle 3 Pack Bundle   \n",
       "1             Pathfinder: Book of Beasts - Legendary Foes   \n",
       "2                                Nursery Rhymes Felt Book   \n",
       "3                                   Dutch Blitz Card Game   \n",
       "4                Magic Pen Painting (Marvel Super Heroes)   \n",
       "...                                                   ...   \n",
       "633878  Geilienergy 6V 2000mAh NiMH RX Battery Packs w...   \n",
       "633879  Micord Baby Float Toddler Swimming Inflatable ...   \n",
       "633880  Premium Swimming Pool Float Hammock, Inflatabl...   \n",
       "633881  Lewo Wooden Baby Toddler Toys Circle First Bea...   \n",
       "633882         Baby Einstein Take Along Tunes Musical Toy   \n",
       "\n",
       "                                                brand  \\\n",
       "0                                           Dr. Seuss   \n",
       "1       Pathfinder Roleplaying Jon Brazer Productions   \n",
       "2                                        Betty Lukens   \n",
       "3                                Dutch Blitz Games Co   \n",
       "4                                    Lee Publications   \n",
       "...                                               ...   \n",
       "633878                                    GEILIENERGY   \n",
       "633879                                         Micord   \n",
       "633880                                         WavePy   \n",
       "633881                                           Lewo   \n",
       "633882                                  Baby Einstein   \n",
       "\n",
       "                        main_cat        asin  \n",
       "0                   Toys & Games  0000191639  \n",
       "1                   Toys & Games  0004950763  \n",
       "2                   Toys & Games  0005069491  \n",
       "3                   Toys & Games  0004983289  \n",
       "4                   Toys & Games  0006466222  \n",
       "...                          ...         ...  \n",
       "633878  Tools & Home Improvement  B01HJDFWDK  \n",
       "633879              Toys & Games  B01HJDGVFS  \n",
       "633880              Toys & Games  B01HJDUNRU  \n",
       "633881              Toys & Games  B01HJFAGJI  \n",
       "633882                      Baby  B01HJHA7GI  \n",
       "\n",
       "[633883 rows x 7 columns]"
      ]
     },
     "execution_count": 18,
     "metadata": {},
     "output_type": "execute_result"
    }
   ],
   "source": [
    "df_meta=pd.read_csv(\"file1.csv\")\n",
    "df_meta"
   ]
  },
  {
   "cell_type": "code",
   "execution_count": 19,
   "metadata": {},
   "outputs": [
    {
     "data": {
      "text/plain": [
       "(633883, 7)"
      ]
     },
     "execution_count": 19,
     "metadata": {},
     "output_type": "execute_result"
    }
   ],
   "source": [
    "df_meta.shape"
   ]
  },
  {
   "cell_type": "code",
   "execution_count": 20,
   "metadata": {},
   "outputs": [
    {
     "data": {
      "text/html": [
       "<div>\n",
       "<style scoped>\n",
       "    .dataframe tbody tr th:only-of-type {\n",
       "        vertical-align: middle;\n",
       "    }\n",
       "\n",
       "    .dataframe tbody tr th {\n",
       "        vertical-align: top;\n",
       "    }\n",
       "\n",
       "    .dataframe thead th {\n",
       "        text-align: right;\n",
       "    }\n",
       "</style>\n",
       "<table border=\"1\" class=\"dataframe\">\n",
       "  <thead>\n",
       "    <tr style=\"text-align: right;\">\n",
       "      <th></th>\n",
       "      <th>Unnamed: 0</th>\n",
       "      <th>category</th>\n",
       "      <th>description</th>\n",
       "      <th>title</th>\n",
       "      <th>brand</th>\n",
       "      <th>main_cat</th>\n",
       "      <th>asin</th>\n",
       "    </tr>\n",
       "  </thead>\n",
       "  <tbody>\n",
       "    <tr>\n",
       "      <th>0</th>\n",
       "      <td>0</td>\n",
       "      <td>['Toys &amp; Games', 'Puzzles', 'Jigsaw Puzzles']</td>\n",
       "      <td>[\"Three Dr. Suess' Puzzles: Green Eggs and Ham...</td>\n",
       "      <td>Dr. Suess 19163 Dr. Seuss Puzzle 3 Pack Bundle</td>\n",
       "      <td>Dr. Seuss</td>\n",
       "      <td>Toys &amp; Games</td>\n",
       "      <td>0000191639</td>\n",
       "    </tr>\n",
       "    <tr>\n",
       "      <th>1</th>\n",
       "      <td>1</td>\n",
       "      <td>[]</td>\n",
       "      <td>['&lt;b&gt;Prepare to be Afraid!&lt;/b&gt;&lt;br /&gt;&lt;br /&gt;The ...</td>\n",
       "      <td>Pathfinder: Book of Beasts - Legendary Foes</td>\n",
       "      <td>Pathfinder Roleplaying Jon Brazer Productions</td>\n",
       "      <td>Toys &amp; Games</td>\n",
       "      <td>0004950763</td>\n",
       "    </tr>\n",
       "    <tr>\n",
       "      <th>2</th>\n",
       "      <td>2</td>\n",
       "      <td>[]</td>\n",
       "      <td>[]</td>\n",
       "      <td>Nursery Rhymes Felt Book</td>\n",
       "      <td>Betty Lukens</td>\n",
       "      <td>Toys &amp; Games</td>\n",
       "      <td>0005069491</td>\n",
       "    </tr>\n",
       "    <tr>\n",
       "      <th>3</th>\n",
       "      <td>3</td>\n",
       "      <td>['Toys &amp; Games', 'Games', 'Card Games']</td>\n",
       "      <td>['Blitz Vintage Card Game']</td>\n",
       "      <td>Dutch Blitz Card Game</td>\n",
       "      <td>Dutch Blitz Games Co</td>\n",
       "      <td>Toys &amp; Games</td>\n",
       "      <td>0004983289</td>\n",
       "    </tr>\n",
       "    <tr>\n",
       "      <th>4</th>\n",
       "      <td>4</td>\n",
       "      <td>[]</td>\n",
       "      <td>['Marvel SuperHeroes themed \"magic ink\" colori...</td>\n",
       "      <td>Magic Pen Painting (Marvel Super Heroes)</td>\n",
       "      <td>Lee Publications</td>\n",
       "      <td>Toys &amp; Games</td>\n",
       "      <td>0006466222</td>\n",
       "    </tr>\n",
       "  </tbody>\n",
       "</table>\n",
       "</div>"
      ],
      "text/plain": [
       "   Unnamed: 0                                       category  \\\n",
       "0           0  ['Toys & Games', 'Puzzles', 'Jigsaw Puzzles']   \n",
       "1           1                                             []   \n",
       "2           2                                             []   \n",
       "3           3        ['Toys & Games', 'Games', 'Card Games']   \n",
       "4           4                                             []   \n",
       "\n",
       "                                         description  \\\n",
       "0  [\"Three Dr. Suess' Puzzles: Green Eggs and Ham...   \n",
       "1  ['<b>Prepare to be Afraid!</b><br /><br />The ...   \n",
       "2                                                 []   \n",
       "3                        ['Blitz Vintage Card Game']   \n",
       "4  ['Marvel SuperHeroes themed \"magic ink\" colori...   \n",
       "\n",
       "                                            title  \\\n",
       "0  Dr. Suess 19163 Dr. Seuss Puzzle 3 Pack Bundle   \n",
       "1     Pathfinder: Book of Beasts - Legendary Foes   \n",
       "2                        Nursery Rhymes Felt Book   \n",
       "3                           Dutch Blitz Card Game   \n",
       "4        Magic Pen Painting (Marvel Super Heroes)   \n",
       "\n",
       "                                           brand      main_cat        asin  \n",
       "0                                      Dr. Seuss  Toys & Games  0000191639  \n",
       "1  Pathfinder Roleplaying Jon Brazer Productions  Toys & Games  0004950763  \n",
       "2                                   Betty Lukens  Toys & Games  0005069491  \n",
       "3                           Dutch Blitz Games Co  Toys & Games  0004983289  \n",
       "4                               Lee Publications  Toys & Games  0006466222  "
      ]
     },
     "execution_count": 20,
     "metadata": {},
     "output_type": "execute_result"
    }
   ],
   "source": [
    "df_meta.head()"
   ]
  },
  {
   "cell_type": "code",
   "execution_count": 21,
   "metadata": {},
   "outputs": [
    {
     "data": {
      "text/html": [
       "<div>\n",
       "<style scoped>\n",
       "    .dataframe tbody tr th:only-of-type {\n",
       "        vertical-align: middle;\n",
       "    }\n",
       "\n",
       "    .dataframe tbody tr th {\n",
       "        vertical-align: top;\n",
       "    }\n",
       "\n",
       "    .dataframe thead th {\n",
       "        text-align: right;\n",
       "    }\n",
       "</style>\n",
       "<table border=\"1\" class=\"dataframe\">\n",
       "  <thead>\n",
       "    <tr style=\"text-align: right;\">\n",
       "      <th></th>\n",
       "      <th>Unnamed: 0</th>\n",
       "      <th>category</th>\n",
       "      <th>description</th>\n",
       "      <th>title</th>\n",
       "      <th>brand</th>\n",
       "      <th>main_cat</th>\n",
       "      <th>asin</th>\n",
       "    </tr>\n",
       "  </thead>\n",
       "  <tbody>\n",
       "    <tr>\n",
       "      <th>633878</th>\n",
       "      <td>633878</td>\n",
       "      <td>['Toys &amp; Games', 'Hobbies', 'Remote &amp; App Cont...</td>\n",
       "      <td>[]</td>\n",
       "      <td>Geilienergy 6V 2000mAh NiMH RX Battery Packs w...</td>\n",
       "      <td>GEILIENERGY</td>\n",
       "      <td>Tools &amp; Home Improvement</td>\n",
       "      <td>B01HJDFWDK</td>\n",
       "    </tr>\n",
       "    <tr>\n",
       "      <th>633879</th>\n",
       "      <td>633879</td>\n",
       "      <td>['Toys &amp; Games', 'Sports &amp; Outdoor Play', 'Poo...</td>\n",
       "      <td>['Suitable for children ages 6-36 Months old.&lt;...</td>\n",
       "      <td>Micord Baby Float Toddler Swimming Inflatable ...</td>\n",
       "      <td>Micord</td>\n",
       "      <td>Toys &amp; Games</td>\n",
       "      <td>B01HJDGVFS</td>\n",
       "    </tr>\n",
       "    <tr>\n",
       "      <th>633880</th>\n",
       "      <td>633880</td>\n",
       "      <td>['Toys &amp; Games', 'Sports &amp; Outdoor Play', 'Poo...</td>\n",
       "      <td>[\"Just choose it, make you forget all the trou...</td>\n",
       "      <td>Premium Swimming Pool Float Hammock, Inflatabl...</td>\n",
       "      <td>WavePy</td>\n",
       "      <td>Toys &amp; Games</td>\n",
       "      <td>B01HJDUNRU</td>\n",
       "    </tr>\n",
       "    <tr>\n",
       "      <th>633881</th>\n",
       "      <td>633881</td>\n",
       "      <td>['Toys &amp; Games', 'Learning &amp; Education', 'Earl...</td>\n",
       "      <td>[]</td>\n",
       "      <td>Lewo Wooden Baby Toddler Toys Circle First Bea...</td>\n",
       "      <td>Lewo</td>\n",
       "      <td>Toys &amp; Games</td>\n",
       "      <td>B01HJFAGJI</td>\n",
       "    </tr>\n",
       "    <tr>\n",
       "      <th>633882</th>\n",
       "      <td>633882</td>\n",
       "      <td>['Toys &amp; Games', 'Baby &amp; Toddler Toys', 'Music...</td>\n",
       "      <td>[]</td>\n",
       "      <td>Baby Einstein Take Along Tunes Musical Toy</td>\n",
       "      <td>Baby Einstein</td>\n",
       "      <td>Baby</td>\n",
       "      <td>B01HJHA7GI</td>\n",
       "    </tr>\n",
       "  </tbody>\n",
       "</table>\n",
       "</div>"
      ],
      "text/plain": [
       "        Unnamed: 0                                           category  \\\n",
       "633878      633878  ['Toys & Games', 'Hobbies', 'Remote & App Cont...   \n",
       "633879      633879  ['Toys & Games', 'Sports & Outdoor Play', 'Poo...   \n",
       "633880      633880  ['Toys & Games', 'Sports & Outdoor Play', 'Poo...   \n",
       "633881      633881  ['Toys & Games', 'Learning & Education', 'Earl...   \n",
       "633882      633882  ['Toys & Games', 'Baby & Toddler Toys', 'Music...   \n",
       "\n",
       "                                              description  \\\n",
       "633878                                                 []   \n",
       "633879  ['Suitable for children ages 6-36 Months old.<...   \n",
       "633880  [\"Just choose it, make you forget all the trou...   \n",
       "633881                                                 []   \n",
       "633882                                                 []   \n",
       "\n",
       "                                                    title          brand  \\\n",
       "633878  Geilienergy 6V 2000mAh NiMH RX Battery Packs w...    GEILIENERGY   \n",
       "633879  Micord Baby Float Toddler Swimming Inflatable ...         Micord   \n",
       "633880  Premium Swimming Pool Float Hammock, Inflatabl...         WavePy   \n",
       "633881  Lewo Wooden Baby Toddler Toys Circle First Bea...           Lewo   \n",
       "633882         Baby Einstein Take Along Tunes Musical Toy  Baby Einstein   \n",
       "\n",
       "                        main_cat        asin  \n",
       "633878  Tools & Home Improvement  B01HJDFWDK  \n",
       "633879              Toys & Games  B01HJDGVFS  \n",
       "633880              Toys & Games  B01HJDUNRU  \n",
       "633881              Toys & Games  B01HJFAGJI  \n",
       "633882                      Baby  B01HJHA7GI  "
      ]
     },
     "execution_count": 21,
     "metadata": {},
     "output_type": "execute_result"
    }
   ],
   "source": [
    "df_meta.tail()"
   ]
  },
  {
   "cell_type": "code",
   "execution_count": 22,
   "metadata": {},
   "outputs": [
    {
     "data": {
      "text/plain": [
       "Unnamed: 0      int64\n",
       "category       object\n",
       "description    object\n",
       "title          object\n",
       "brand          object\n",
       "main_cat       object\n",
       "asin           object\n",
       "dtype: object"
      ]
     },
     "execution_count": 22,
     "metadata": {},
     "output_type": "execute_result"
    }
   ],
   "source": [
    "df_meta.dtypes"
   ]
  },
  {
   "cell_type": "code",
   "execution_count": 23,
   "metadata": {},
   "outputs": [
    {
     "data": {
      "text/plain": [
       "Index(['Unnamed: 0', 'category', 'description', 'title', 'brand', 'main_cat',\n",
       "       'asin'],\n",
       "      dtype='object')"
      ]
     },
     "execution_count": 23,
     "metadata": {},
     "output_type": "execute_result"
    }
   ],
   "source": [
    "df_meta.columns"
   ]
  },
  {
   "cell_type": "code",
   "execution_count": 24,
   "metadata": {},
   "outputs": [
    {
     "data": {
      "text/html": [
       "<div>\n",
       "<style scoped>\n",
       "    .dataframe tbody tr th:only-of-type {\n",
       "        vertical-align: middle;\n",
       "    }\n",
       "\n",
       "    .dataframe tbody tr th {\n",
       "        vertical-align: top;\n",
       "    }\n",
       "\n",
       "    .dataframe thead th {\n",
       "        text-align: right;\n",
       "    }\n",
       "</style>\n",
       "<table border=\"1\" class=\"dataframe\">\n",
       "  <thead>\n",
       "    <tr style=\"text-align: right;\">\n",
       "      <th></th>\n",
       "      <th>Unnamed: 0</th>\n",
       "    </tr>\n",
       "  </thead>\n",
       "  <tbody>\n",
       "    <tr>\n",
       "      <th>count</th>\n",
       "      <td>633883.000000</td>\n",
       "    </tr>\n",
       "    <tr>\n",
       "      <th>mean</th>\n",
       "      <td>316941.000000</td>\n",
       "    </tr>\n",
       "    <tr>\n",
       "      <th>std</th>\n",
       "      <td>182986.404679</td>\n",
       "    </tr>\n",
       "    <tr>\n",
       "      <th>min</th>\n",
       "      <td>0.000000</td>\n",
       "    </tr>\n",
       "    <tr>\n",
       "      <th>25%</th>\n",
       "      <td>158470.500000</td>\n",
       "    </tr>\n",
       "    <tr>\n",
       "      <th>50%</th>\n",
       "      <td>316941.000000</td>\n",
       "    </tr>\n",
       "    <tr>\n",
       "      <th>75%</th>\n",
       "      <td>475411.500000</td>\n",
       "    </tr>\n",
       "    <tr>\n",
       "      <th>max</th>\n",
       "      <td>633882.000000</td>\n",
       "    </tr>\n",
       "  </tbody>\n",
       "</table>\n",
       "</div>"
      ],
      "text/plain": [
       "          Unnamed: 0\n",
       "count  633883.000000\n",
       "mean   316941.000000\n",
       "std    182986.404679\n",
       "min         0.000000\n",
       "25%    158470.500000\n",
       "50%    316941.000000\n",
       "75%    475411.500000\n",
       "max    633882.000000"
      ]
     },
     "execution_count": 24,
     "metadata": {},
     "output_type": "execute_result"
    }
   ],
   "source": [
    "df_meta.describe()"
   ]
  },
  {
   "cell_type": "code",
   "execution_count": 25,
   "metadata": {},
   "outputs": [
    {
     "data": {
      "text/html": [
       "<div>\n",
       "<style scoped>\n",
       "    .dataframe tbody tr th:only-of-type {\n",
       "        vertical-align: middle;\n",
       "    }\n",
       "\n",
       "    .dataframe tbody tr th {\n",
       "        vertical-align: top;\n",
       "    }\n",
       "\n",
       "    .dataframe thead th {\n",
       "        text-align: right;\n",
       "    }\n",
       "</style>\n",
       "<table border=\"1\" class=\"dataframe\">\n",
       "  <thead>\n",
       "    <tr style=\"text-align: right;\">\n",
       "      <th></th>\n",
       "      <th>category</th>\n",
       "      <th>description</th>\n",
       "      <th>title</th>\n",
       "      <th>brand</th>\n",
       "      <th>main_cat</th>\n",
       "      <th>asin</th>\n",
       "    </tr>\n",
       "  </thead>\n",
       "  <tbody>\n",
       "    <tr>\n",
       "      <th>count</th>\n",
       "      <td>633883</td>\n",
       "      <td>633883</td>\n",
       "      <td>633862</td>\n",
       "      <td>626956</td>\n",
       "      <td>629189</td>\n",
       "      <td>633883</td>\n",
       "    </tr>\n",
       "    <tr>\n",
       "      <th>unique</th>\n",
       "      <td>5300</td>\n",
       "      <td>476457</td>\n",
       "      <td>618024</td>\n",
       "      <td>62530</td>\n",
       "      <td>37</td>\n",
       "      <td>624284</td>\n",
       "    </tr>\n",
       "    <tr>\n",
       "      <th>top</th>\n",
       "      <td>[]</td>\n",
       "      <td>[]</td>\n",
       "      <td>SeeZoom Lighted Magnifying Glass 3x 45x magnif...</td>\n",
       "      <td>Disney</td>\n",
       "      <td>Toys &amp; Games</td>\n",
       "      <td>B00023SWQY</td>\n",
       "    </tr>\n",
       "    <tr>\n",
       "      <th>freq</th>\n",
       "      <td>62243</td>\n",
       "      <td>82014</td>\n",
       "      <td>244</td>\n",
       "      <td>11348</td>\n",
       "      <td>574070</td>\n",
       "      <td>2</td>\n",
       "    </tr>\n",
       "  </tbody>\n",
       "</table>\n",
       "</div>"
      ],
      "text/plain": [
       "       category description  \\\n",
       "count    633883      633883   \n",
       "unique     5300      476457   \n",
       "top          []          []   \n",
       "freq      62243       82014   \n",
       "\n",
       "                                                    title   brand  \\\n",
       "count                                              633862  626956   \n",
       "unique                                             618024   62530   \n",
       "top     SeeZoom Lighted Magnifying Glass 3x 45x magnif...  Disney   \n",
       "freq                                                  244   11348   \n",
       "\n",
       "            main_cat        asin  \n",
       "count         629189      633883  \n",
       "unique            37      624284  \n",
       "top     Toys & Games  B00023SWQY  \n",
       "freq          574070           2  "
      ]
     },
     "execution_count": 25,
     "metadata": {},
     "output_type": "execute_result"
    }
   ],
   "source": [
    "df_meta.describe(include='object')"
   ]
  },
  {
   "cell_type": "code",
   "execution_count": 26,
   "metadata": {},
   "outputs": [
    {
     "name": "stdout",
     "output_type": "stream",
     "text": [
      "<class 'pandas.core.frame.DataFrame'>\n",
      "RangeIndex: 633883 entries, 0 to 633882\n",
      "Data columns (total 7 columns):\n",
      " #   Column       Non-Null Count   Dtype \n",
      "---  ------       --------------   ----- \n",
      " 0   Unnamed: 0   633883 non-null  int64 \n",
      " 1   category     633883 non-null  object\n",
      " 2   description  633883 non-null  object\n",
      " 3   title        633862 non-null  object\n",
      " 4   brand        626956 non-null  object\n",
      " 5   main_cat     629189 non-null  object\n",
      " 6   asin         633883 non-null  object\n",
      "dtypes: int64(1), object(6)\n",
      "memory usage: 33.9+ MB\n"
     ]
    }
   ],
   "source": [
    "df_meta.info()"
   ]
  },
  {
   "cell_type": "code",
   "execution_count": 27,
   "metadata": {
    "id": "ChGZUssACHj-"
   },
   "outputs": [],
   "source": [
    "col_meta=['category','description']\n",
    "for j in col_meta:\n",
    "  df_meta[j]=df_meta[j].apply(str)\n",
    "  df_meta[j]=df_meta[j].apply(cleaning)"
   ]
  },
  {
   "cell_type": "code",
   "execution_count": 28,
   "metadata": {
    "id": "HOOrKsJ4gy8d"
   },
   "outputs": [],
   "source": [
    "df_meta.drop('Unnamed: 0',axis='columns',inplace=True)"
   ]
  },
  {
   "cell_type": "code",
   "execution_count": 29,
   "metadata": {
    "colab": {
     "base_uri": "https://localhost:8080/"
    },
    "id": "_Jbhg0D9gy-9",
    "outputId": "12dd0cbc-ed1b-4c3e-8bac-4caf4a7c870e"
   },
   "outputs": [
    {
     "data": {
      "text/plain": [
       "category          0\n",
       "description       0\n",
       "title            21\n",
       "brand          6927\n",
       "main_cat       4694\n",
       "asin              0\n",
       "dtype: int64"
      ]
     },
     "execution_count": 29,
     "metadata": {},
     "output_type": "execute_result"
    }
   ],
   "source": [
    "df_meta.isnull().sum()"
   ]
  },
  {
   "cell_type": "code",
   "execution_count": 30,
   "metadata": {
    "id": "w0PtKyYVyfZk"
   },
   "outputs": [],
   "source": [
    "df_meta.dropna(inplace=True)"
   ]
  },
  {
   "cell_type": "code",
   "execution_count": 31,
   "metadata": {
    "id": "cFY-oi5UgzBw"
   },
   "outputs": [],
   "source": [
    "df=pd.merge(df_r,df_meta,on='asin')"
   ]
  },
  {
   "cell_type": "code",
   "execution_count": 32,
   "metadata": {
    "id": "yekINfRwuX80"
   },
   "outputs": [],
   "source": [
    "df.drop(['description','title'],axis='columns',inplace=True)"
   ]
  },
  {
   "cell_type": "code",
   "execution_count": 33,
   "metadata": {},
   "outputs": [
    {
     "data": {
      "text/plain": [
       "(8392084, 9)"
      ]
     },
     "execution_count": 33,
     "metadata": {},
     "output_type": "execute_result"
    }
   ],
   "source": [
    "df.shape"
   ]
  },
  {
   "cell_type": "code",
   "execution_count": 34,
   "metadata": {},
   "outputs": [
    {
     "data": {
      "text/html": [
       "<div>\n",
       "<style scoped>\n",
       "    .dataframe tbody tr th:only-of-type {\n",
       "        vertical-align: middle;\n",
       "    }\n",
       "\n",
       "    .dataframe tbody tr th {\n",
       "        vertical-align: top;\n",
       "    }\n",
       "\n",
       "    .dataframe thead th {\n",
       "        text-align: right;\n",
       "    }\n",
       "</style>\n",
       "<table border=\"1\" class=\"dataframe\">\n",
       "  <thead>\n",
       "    <tr style=\"text-align: right;\">\n",
       "      <th></th>\n",
       "      <th>overall</th>\n",
       "      <th>reviewTime</th>\n",
       "      <th>reviewerID</th>\n",
       "      <th>asin</th>\n",
       "      <th>reviewerName</th>\n",
       "      <th>reviewText</th>\n",
       "      <th>category</th>\n",
       "      <th>brand</th>\n",
       "      <th>main_cat</th>\n",
       "    </tr>\n",
       "  </thead>\n",
       "  <tbody>\n",
       "    <tr>\n",
       "      <th>0</th>\n",
       "      <td>2.0</td>\n",
       "      <td></td>\n",
       "      <td>a1idmi31weanaf</td>\n",
       "      <td>0020232233</td>\n",
       "      <td>Mackenzie Kent</td>\n",
       "      <td>when it comes to a dm s screen the space on th...</td>\n",
       "      <td>toys games grown-up toys games</td>\n",
       "      <td>Gale Force Nine</td>\n",
       "      <td>Toys &amp; Games</td>\n",
       "    </tr>\n",
       "    <tr>\n",
       "      <th>1</th>\n",
       "      <td>1.0</td>\n",
       "      <td></td>\n",
       "      <td>a4bcevvz4y3v3</td>\n",
       "      <td>0020232233</td>\n",
       "      <td>Jonathan Christian</td>\n",
       "      <td>an open letter to galeforce9 your unpainted mi...</td>\n",
       "      <td>toys games grown-up toys games</td>\n",
       "      <td>Gale Force Nine</td>\n",
       "      <td>Toys &amp; Games</td>\n",
       "    </tr>\n",
       "    <tr>\n",
       "      <th>2</th>\n",
       "      <td>3.0</td>\n",
       "      <td></td>\n",
       "      <td>a2ez9py1ihhbx0</td>\n",
       "      <td>0020232233</td>\n",
       "      <td>unpreparedtodie</td>\n",
       "      <td>nice art nice printing why two panels are fill...</td>\n",
       "      <td>toys games grown-up toys games</td>\n",
       "      <td>Gale Force Nine</td>\n",
       "      <td>Toys &amp; Games</td>\n",
       "    </tr>\n",
       "    <tr>\n",
       "      <th>3</th>\n",
       "      <td>5.0</td>\n",
       "      <td></td>\n",
       "      <td>a139pxttc2lghz</td>\n",
       "      <td>0020232233</td>\n",
       "      <td>Ashley</td>\n",
       "      <td>amazing buy bought it as a gift for our new dm...</td>\n",
       "      <td>toys games grown-up toys games</td>\n",
       "      <td>Gale Force Nine</td>\n",
       "      <td>Toys &amp; Games</td>\n",
       "    </tr>\n",
       "    <tr>\n",
       "      <th>4</th>\n",
       "      <td>1.0</td>\n",
       "      <td></td>\n",
       "      <td>a3ib33v29xil8o</td>\n",
       "      <td>0020232233</td>\n",
       "      <td>Oghma_EM</td>\n",
       "      <td>as my review of gf9 s previous screens these w...</td>\n",
       "      <td>toys games grown-up toys games</td>\n",
       "      <td>Gale Force Nine</td>\n",
       "      <td>Toys &amp; Games</td>\n",
       "    </tr>\n",
       "  </tbody>\n",
       "</table>\n",
       "</div>"
      ],
      "text/plain": [
       "   overall reviewTime      reviewerID        asin        reviewerName  \\\n",
       "0      2.0             a1idmi31weanaf  0020232233      Mackenzie Kent   \n",
       "1      1.0              a4bcevvz4y3v3  0020232233  Jonathan Christian   \n",
       "2      3.0             a2ez9py1ihhbx0  0020232233     unpreparedtodie   \n",
       "3      5.0             a139pxttc2lghz  0020232233              Ashley   \n",
       "4      1.0             a3ib33v29xil8o  0020232233            Oghma_EM   \n",
       "\n",
       "                                          reviewText  \\\n",
       "0  when it comes to a dm s screen the space on th...   \n",
       "1  an open letter to galeforce9 your unpainted mi...   \n",
       "2  nice art nice printing why two panels are fill...   \n",
       "3  amazing buy bought it as a gift for our new dm...   \n",
       "4  as my review of gf9 s previous screens these w...   \n",
       "\n",
       "                         category            brand      main_cat  \n",
       "0  toys games grown-up toys games  Gale Force Nine  Toys & Games  \n",
       "1  toys games grown-up toys games  Gale Force Nine  Toys & Games  \n",
       "2  toys games grown-up toys games  Gale Force Nine  Toys & Games  \n",
       "3  toys games grown-up toys games  Gale Force Nine  Toys & Games  \n",
       "4  toys games grown-up toys games  Gale Force Nine  Toys & Games  "
      ]
     },
     "execution_count": 34,
     "metadata": {},
     "output_type": "execute_result"
    }
   ],
   "source": [
    "df.head()"
   ]
  },
  {
   "cell_type": "code",
   "execution_count": 35,
   "metadata": {},
   "outputs": [
    {
     "data": {
      "text/html": [
       "<div>\n",
       "<style scoped>\n",
       "    .dataframe tbody tr th:only-of-type {\n",
       "        vertical-align: middle;\n",
       "    }\n",
       "\n",
       "    .dataframe tbody tr th {\n",
       "        vertical-align: top;\n",
       "    }\n",
       "\n",
       "    .dataframe thead th {\n",
       "        text-align: right;\n",
       "    }\n",
       "</style>\n",
       "<table border=\"1\" class=\"dataframe\">\n",
       "  <thead>\n",
       "    <tr style=\"text-align: right;\">\n",
       "      <th></th>\n",
       "      <th>overall</th>\n",
       "      <th>reviewTime</th>\n",
       "      <th>reviewerID</th>\n",
       "      <th>asin</th>\n",
       "      <th>reviewerName</th>\n",
       "      <th>reviewText</th>\n",
       "      <th>category</th>\n",
       "      <th>brand</th>\n",
       "      <th>main_cat</th>\n",
       "    </tr>\n",
       "  </thead>\n",
       "  <tbody>\n",
       "    <tr>\n",
       "      <th>8392079</th>\n",
       "      <td>5.0</td>\n",
       "      <td></td>\n",
       "      <td>a3ffq7g5v45wj5</td>\n",
       "      <td>B01HJDGVFS</td>\n",
       "      <td>Amazon Customer</td>\n",
       "      <td>my son is months and he enjoyed playing in the...</td>\n",
       "      <td>toys games sports outdoor play pools water fun...</td>\n",
       "      <td>Micord</td>\n",
       "      <td>Toys &amp; Games</td>\n",
       "    </tr>\n",
       "    <tr>\n",
       "      <th>8392080</th>\n",
       "      <td>5.0</td>\n",
       "      <td></td>\n",
       "      <td>a1ktvuvadlkwzo</td>\n",
       "      <td>B01HJHA7GI</td>\n",
       "      <td>Raven the Maven</td>\n",
       "      <td>e my ten month old has had this for a few mont...</td>\n",
       "      <td>toys games baby toddler toys music sound</td>\n",
       "      <td>Baby Einstein</td>\n",
       "      <td>Baby</td>\n",
       "    </tr>\n",
       "    <tr>\n",
       "      <th>8392081</th>\n",
       "      <td>5.0</td>\n",
       "      <td></td>\n",
       "      <td>a2qca9oe62ipz4</td>\n",
       "      <td>B01HJHA7GI</td>\n",
       "      <td>crhug</td>\n",
       "      <td>perfect toy to keep baby amused</td>\n",
       "      <td>toys games baby toddler toys music sound</td>\n",
       "      <td>Baby Einstein</td>\n",
       "      <td>Baby</td>\n",
       "    </tr>\n",
       "    <tr>\n",
       "      <th>8392082</th>\n",
       "      <td>5.0</td>\n",
       "      <td></td>\n",
       "      <td>a3n28jazys4l9o</td>\n",
       "      <td>B01HJHA7GI</td>\n",
       "      <td>Cindy Volk</td>\n",
       "      <td>perfect</td>\n",
       "      <td>toys games baby toddler toys music sound</td>\n",
       "      <td>Baby Einstein</td>\n",
       "      <td>Baby</td>\n",
       "    </tr>\n",
       "    <tr>\n",
       "      <th>8392083</th>\n",
       "      <td>5.0</td>\n",
       "      <td></td>\n",
       "      <td>a2ogyzryrsvqzj</td>\n",
       "      <td>B01HJHA7GI</td>\n",
       "      <td>Ostinato_Parody</td>\n",
       "      <td>i am based in the uk and i bought this item as...</td>\n",
       "      <td>toys games baby toddler toys music sound</td>\n",
       "      <td>Baby Einstein</td>\n",
       "      <td>Baby</td>\n",
       "    </tr>\n",
       "  </tbody>\n",
       "</table>\n",
       "</div>"
      ],
      "text/plain": [
       "         overall reviewTime      reviewerID        asin     reviewerName  \\\n",
       "8392079      5.0             a3ffq7g5v45wj5  B01HJDGVFS  Amazon Customer   \n",
       "8392080      5.0             a1ktvuvadlkwzo  B01HJHA7GI  Raven the Maven   \n",
       "8392081      5.0             a2qca9oe62ipz4  B01HJHA7GI            crhug   \n",
       "8392082      5.0             a3n28jazys4l9o  B01HJHA7GI       Cindy Volk   \n",
       "8392083      5.0             a2ogyzryrsvqzj  B01HJHA7GI  Ostinato_Parody   \n",
       "\n",
       "                                                reviewText  \\\n",
       "8392079  my son is months and he enjoyed playing in the...   \n",
       "8392080  e my ten month old has had this for a few mont...   \n",
       "8392081                    perfect toy to keep baby amused   \n",
       "8392082                                            perfect   \n",
       "8392083  i am based in the uk and i bought this item as...   \n",
       "\n",
       "                                                  category          brand  \\\n",
       "8392079  toys games sports outdoor play pools water fun...         Micord   \n",
       "8392080           toys games baby toddler toys music sound  Baby Einstein   \n",
       "8392081           toys games baby toddler toys music sound  Baby Einstein   \n",
       "8392082           toys games baby toddler toys music sound  Baby Einstein   \n",
       "8392083           toys games baby toddler toys music sound  Baby Einstein   \n",
       "\n",
       "             main_cat  \n",
       "8392079  Toys & Games  \n",
       "8392080          Baby  \n",
       "8392081          Baby  \n",
       "8392082          Baby  \n",
       "8392083          Baby  "
      ]
     },
     "execution_count": 35,
     "metadata": {},
     "output_type": "execute_result"
    }
   ],
   "source": [
    "df.tail()"
   ]
  },
  {
   "cell_type": "code",
   "execution_count": 36,
   "metadata": {},
   "outputs": [
    {
     "data": {
      "text/plain": [
       "overall         float64\n",
       "reviewTime       object\n",
       "reviewerID       object\n",
       "asin             object\n",
       "reviewerName     object\n",
       "reviewText       object\n",
       "category         object\n",
       "brand            object\n",
       "main_cat         object\n",
       "dtype: object"
      ]
     },
     "execution_count": 36,
     "metadata": {},
     "output_type": "execute_result"
    }
   ],
   "source": [
    "df.dtypes"
   ]
  },
  {
   "cell_type": "code",
   "execution_count": 37,
   "metadata": {},
   "outputs": [
    {
     "data": {
      "text/plain": [
       "Index(['overall', 'reviewTime', 'reviewerID', 'asin', 'reviewerName',\n",
       "       'reviewText', 'category', 'brand', 'main_cat'],\n",
       "      dtype='object')"
      ]
     },
     "execution_count": 37,
     "metadata": {},
     "output_type": "execute_result"
    }
   ],
   "source": [
    "df.columns"
   ]
  },
  {
   "cell_type": "code",
   "execution_count": 38,
   "metadata": {},
   "outputs": [
    {
     "data": {
      "text/html": [
       "<div>\n",
       "<style scoped>\n",
       "    .dataframe tbody tr th:only-of-type {\n",
       "        vertical-align: middle;\n",
       "    }\n",
       "\n",
       "    .dataframe tbody tr th {\n",
       "        vertical-align: top;\n",
       "    }\n",
       "\n",
       "    .dataframe thead th {\n",
       "        text-align: right;\n",
       "    }\n",
       "</style>\n",
       "<table border=\"1\" class=\"dataframe\">\n",
       "  <thead>\n",
       "    <tr style=\"text-align: right;\">\n",
       "      <th></th>\n",
       "      <th>overall</th>\n",
       "    </tr>\n",
       "  </thead>\n",
       "  <tbody>\n",
       "    <tr>\n",
       "      <th>count</th>\n",
       "      <td>8.392084e+06</td>\n",
       "    </tr>\n",
       "    <tr>\n",
       "      <th>mean</th>\n",
       "      <td>4.230616e+00</td>\n",
       "    </tr>\n",
       "    <tr>\n",
       "      <th>std</th>\n",
       "      <td>1.278830e+00</td>\n",
       "    </tr>\n",
       "    <tr>\n",
       "      <th>min</th>\n",
       "      <td>1.000000e+00</td>\n",
       "    </tr>\n",
       "    <tr>\n",
       "      <th>25%</th>\n",
       "      <td>4.000000e+00</td>\n",
       "    </tr>\n",
       "    <tr>\n",
       "      <th>50%</th>\n",
       "      <td>5.000000e+00</td>\n",
       "    </tr>\n",
       "    <tr>\n",
       "      <th>75%</th>\n",
       "      <td>5.000000e+00</td>\n",
       "    </tr>\n",
       "    <tr>\n",
       "      <th>max</th>\n",
       "      <td>5.000000e+00</td>\n",
       "    </tr>\n",
       "  </tbody>\n",
       "</table>\n",
       "</div>"
      ],
      "text/plain": [
       "            overall\n",
       "count  8.392084e+06\n",
       "mean   4.230616e+00\n",
       "std    1.278830e+00\n",
       "min    1.000000e+00\n",
       "25%    4.000000e+00\n",
       "50%    5.000000e+00\n",
       "75%    5.000000e+00\n",
       "max    5.000000e+00"
      ]
     },
     "execution_count": 38,
     "metadata": {},
     "output_type": "execute_result"
    }
   ],
   "source": [
    "df.describe()"
   ]
  },
  {
   "cell_type": "code",
   "execution_count": 39,
   "metadata": {},
   "outputs": [
    {
     "data": {
      "text/html": [
       "<div>\n",
       "<style scoped>\n",
       "    .dataframe tbody tr th:only-of-type {\n",
       "        vertical-align: middle;\n",
       "    }\n",
       "\n",
       "    .dataframe tbody tr th {\n",
       "        vertical-align: top;\n",
       "    }\n",
       "\n",
       "    .dataframe thead th {\n",
       "        text-align: right;\n",
       "    }\n",
       "</style>\n",
       "<table border=\"1\" class=\"dataframe\">\n",
       "  <thead>\n",
       "    <tr style=\"text-align: right;\">\n",
       "      <th></th>\n",
       "      <th>reviewTime</th>\n",
       "      <th>reviewerID</th>\n",
       "      <th>asin</th>\n",
       "      <th>reviewerName</th>\n",
       "      <th>reviewText</th>\n",
       "      <th>category</th>\n",
       "      <th>brand</th>\n",
       "      <th>main_cat</th>\n",
       "    </tr>\n",
       "  </thead>\n",
       "  <tbody>\n",
       "    <tr>\n",
       "      <th>count</th>\n",
       "      <td>8392084</td>\n",
       "      <td>8392084</td>\n",
       "      <td>8392084</td>\n",
       "      <td>8392084</td>\n",
       "      <td>8392084</td>\n",
       "      <td>8392084</td>\n",
       "      <td>8392084</td>\n",
       "      <td>8392084</td>\n",
       "    </tr>\n",
       "    <tr>\n",
       "      <th>unique</th>\n",
       "      <td>1</td>\n",
       "      <td>4171369</td>\n",
       "      <td>613083</td>\n",
       "      <td>2369095</td>\n",
       "      <td>6626364</td>\n",
       "      <td>4458</td>\n",
       "      <td>62034</td>\n",
       "      <td>33</td>\n",
       "    </tr>\n",
       "    <tr>\n",
       "      <th>top</th>\n",
       "      <td></td>\n",
       "      <td>ajgu56yg8g1dq</td>\n",
       "      <td>B000YDDF6O</td>\n",
       "      <td>Amazon Customer</td>\n",
       "      <td>great</td>\n",
       "      <td></td>\n",
       "      <td>Melissa &amp; Doug</td>\n",
       "      <td>Toys &amp; Games</td>\n",
       "    </tr>\n",
       "    <tr>\n",
       "      <th>freq</th>\n",
       "      <td>8392084</td>\n",
       "      <td>1271</td>\n",
       "      <td>12664</td>\n",
       "      <td>685678</td>\n",
       "      <td>50237</td>\n",
       "      <td>550296</td>\n",
       "      <td>217406</td>\n",
       "      <td>7579356</td>\n",
       "    </tr>\n",
       "  </tbody>\n",
       "</table>\n",
       "</div>"
      ],
      "text/plain": [
       "       reviewTime     reviewerID        asin     reviewerName reviewText  \\\n",
       "count     8392084        8392084     8392084          8392084    8392084   \n",
       "unique          1        4171369      613083          2369095    6626364   \n",
       "top                ajgu56yg8g1dq  B000YDDF6O  Amazon Customer      great   \n",
       "freq      8392084           1271       12664           685678      50237   \n",
       "\n",
       "       category           brand      main_cat  \n",
       "count   8392084         8392084       8392084  \n",
       "unique     4458           62034            33  \n",
       "top              Melissa & Doug  Toys & Games  \n",
       "freq     550296          217406       7579356  "
      ]
     },
     "execution_count": 39,
     "metadata": {},
     "output_type": "execute_result"
    }
   ],
   "source": [
    "df.describe(include='object')"
   ]
  },
  {
   "cell_type": "code",
   "execution_count": 40,
   "metadata": {},
   "outputs": [
    {
     "name": "stdout",
     "output_type": "stream",
     "text": [
      "<class 'pandas.core.frame.DataFrame'>\n",
      "Int64Index: 8392084 entries, 0 to 8392083\n",
      "Data columns (total 9 columns):\n",
      " #   Column        Dtype  \n",
      "---  ------        -----  \n",
      " 0   overall       float64\n",
      " 1   reviewTime    object \n",
      " 2   reviewerID    object \n",
      " 3   asin          object \n",
      " 4   reviewerName  object \n",
      " 5   reviewText    object \n",
      " 6   category      object \n",
      " 7   brand         object \n",
      " 8   main_cat      object \n",
      "dtypes: float64(1), object(8)\n",
      "memory usage: 640.3+ MB\n"
     ]
    }
   ],
   "source": [
    "df.info()"
   ]
  },
  {
   "cell_type": "code",
   "execution_count": 41,
   "metadata": {
    "colab": {
     "base_uri": "https://localhost:8080/"
    },
    "id": "cEpzCQzEyM2f",
    "outputId": "68716f1e-d7ce-458d-d195-a2c62d20c2ee"
   },
   "outputs": [
    {
     "data": {
      "text/plain": [
       "overall         0\n",
       "reviewTime      0\n",
       "reviewerID      0\n",
       "asin            0\n",
       "reviewerName    0\n",
       "reviewText      0\n",
       "category        0\n",
       "brand           0\n",
       "main_cat        0\n",
       "dtype: int64"
      ]
     },
     "execution_count": 41,
     "metadata": {},
     "output_type": "execute_result"
    }
   ],
   "source": [
    "df.isnull().sum()"
   ]
  },
  {
   "cell_type": "code",
   "execution_count": 42,
   "metadata": {
    "id": "z-cZNH0NyYTo"
   },
   "outputs": [],
   "source": [
    "df.dropna(inplace=True)"
   ]
  },
  {
   "cell_type": "code",
   "execution_count": 43,
   "metadata": {
    "id": "1kn3MHkzGP5u"
   },
   "outputs": [],
   "source": [
    "col=['main_cat','category','brand','reviewText','reviewerName']"
   ]
  },
  {
   "cell_type": "code",
   "execution_count": 44,
   "metadata": {
    "colab": {
     "base_uri": "https://localhost:8080/",
     "height": 35
    },
    "id": "WoiaVVyvGPN0",
    "outputId": "e40286ec-4623-497a-a56c-063c6989c448"
   },
   "outputs": [],
   "source": [
    "for k in col:\n",
    "    df[k]=df[k].apply(str)\n",
    "    df[k]=df[k].apply(cleaning)"
   ]
  },
  {
   "cell_type": "code",
   "execution_count": 45,
   "metadata": {
    "id": "frW-c5IlpW9l"
   },
   "outputs": [],
   "source": [
    "#df.to_csv(\"/content/drive/MyDrive/Final_Project/Merged_File.csv\")"
   ]
  },
  {
   "cell_type": "markdown",
   "metadata": {},
   "source": [
    "#### EDA"
   ]
  },
  {
   "cell_type": "code",
   "execution_count": 46,
   "metadata": {},
   "outputs": [
    {
     "data": {
      "text/plain": [
       "<AxesSubplot:xlabel='overall', ylabel='count'>"
      ]
     },
     "execution_count": 46,
     "metadata": {},
     "output_type": "execute_result"
    },
    {
     "data": {
      "image/png": "[encoded data removed]",
      "text/plain": [
       "<Figure size 432x288 with 1 Axes>"
      ]
     },
     "metadata": {
      "needs_background": "light"
     },
     "output_type": "display_data"
    }
   ],
   "source": [
    "sns.countplot(x = df[\"overall\"])"
   ]
  },
  {
   "cell_type": "code",
   "execution_count": 47,
   "metadata": {},
   "outputs": [
    {
     "data": {
      "text/plain": [
       "<BarContainer object of 5 artists>"
      ]
     },
     "execution_count": 47,
     "metadata": {},
     "output_type": "execute_result"
    },
    {
     "data": {
      "image/png": "[encoded data removed]",
      "text/plain": [
       "<Figure size 432x288 with 1 Axes>"
      ]
     },
     "metadata": {
      "needs_background": "light"
     },
     "output_type": "display_data"
    }
   ],
   "source": [
    "a=df['main_cat'].value_counts().head(5)\n",
    "a=pd.DataFrame(a)\n",
    "plt.barh(a.index,a.main_cat)"
   ]
  },
  {
   "cell_type": "code",
   "execution_count": 48,
   "metadata": {},
   "outputs": [
    {
     "data": {
      "text/plain": [
       "<BarContainer object of 10 artists>"
      ]
     },
     "execution_count": 48,
     "metadata": {},
     "output_type": "execute_result"
    },
    {
     "data": {
      "image/png": "[encoded data removed]",
      "text/plain": [
       "<Figure size 432x288 with 1 Axes>"
      ]
     },
     "metadata": {
      "needs_background": "light"
     },
     "output_type": "display_data"
    }
   ],
   "source": [
    "b=df['brand'].value_counts().head(10)\n",
    "b=pd.DataFrame(b)\n",
    "plt.barh(b.index,b.brand)"
   ]
  },
  {
   "cell_type": "code",
   "execution_count": 49,
   "metadata": {},
   "outputs": [],
   "source": [
    "#df.hist(bins=50,figsize=(20,15))\n",
    "#plt.show"
   ]
  },
  {
   "cell_type": "markdown",
   "metadata": {
    "id": "FNhHlL8QyNd8"
   },
   "source": [
    "**NLP**"
   ]
  },
  {
   "cell_type": "code",
   "execution_count": 50,
   "metadata": {
    "id": "SwqQVQdwUEyc"
   },
   "outputs": [
    {
     "data": {
      "text/plain": [
       "\"df.loc[df['overall'] < 3,'Sentiment'] = 'negative'\\n \\n#4,5->positive\\ndf.loc[df['overall'] > 3,'Sentiment'] = 'positive'\\n\\n\\ndf.loc[df['overall'] == 3,'Sentiment'] = 'neutral'\""
      ]
     },
     "execution_count": 50,
     "metadata": {},
     "output_type": "execute_result"
    }
   ],
   "source": [
    "\"\"\"df.loc[df['overall'] < 3,'Sentiment'] = 'negative'\n",
    " \n",
    "#4,5->positive\n",
    "df.loc[df['overall'] > 3,'Sentiment'] = 'positive'\n",
    "\n",
    "\n",
    "df.loc[df['overall'] == 3,'Sentiment'] = 'neutral'\"\"\""
   ]
  },
  {
   "cell_type": "code",
   "execution_count": 51,
   "metadata": {},
   "outputs": [],
   "source": [
    "stp_words=stopwords.words('english')\n",
    "def clean_review(review):\n",
    "  cleanreview=\" \".join(word for word in review.\n",
    "                       split() if word not in stp_words)\n",
    "  return cleanreview\n",
    " \n",
    "df['reviewText']=df['reviewText'].apply(clean_review)"
   ]
  },
  {
   "cell_type": "code",
   "execution_count": 52,
   "metadata": {
    "id": "T17vnH9RUFbV"
   },
   "outputs": [],
   "source": [
    "from textblob import TextBlob\n",
    "# function to calculate subjectivity\n",
    "    # function to calculate polarity\n",
    "def getPolarity(review):\n",
    "  return TextBlob(review).sentiment.polarity\n",
    "\n",
    "# function to analyze the reviews\n",
    "def analysis(score):\n",
    "    if score < 0:\n",
    "        return 'Negative'\n",
    "    elif score == 0:\n",
    "        return 'Neutral'\n",
    "    else:\n",
    "        return 'Positive'"
   ]
  },
  {
   "cell_type": "code",
   "execution_count": 53,
   "metadata": {},
   "outputs": [
    {
     "data": {
      "text/html": [
       "<div>\n",
       "<style scoped>\n",
       "    .dataframe tbody tr th:only-of-type {\n",
       "        vertical-align: middle;\n",
       "    }\n",
       "\n",
       "    .dataframe tbody tr th {\n",
       "        vertical-align: top;\n",
       "    }\n",
       "\n",
       "    .dataframe thead th {\n",
       "        text-align: right;\n",
       "    }\n",
       "</style>\n",
       "<table border=\"1\" class=\"dataframe\">\n",
       "  <thead>\n",
       "    <tr style=\"text-align: right;\">\n",
       "      <th></th>\n",
       "      <th>overall</th>\n",
       "      <th>reviewTime</th>\n",
       "      <th>reviewerID</th>\n",
       "      <th>asin</th>\n",
       "      <th>reviewerName</th>\n",
       "      <th>reviewText</th>\n",
       "      <th>category</th>\n",
       "      <th>brand</th>\n",
       "      <th>main_cat</th>\n",
       "      <th>Polarity</th>\n",
       "      <th>Analysis</th>\n",
       "    </tr>\n",
       "  </thead>\n",
       "  <tbody>\n",
       "    <tr>\n",
       "      <th>0</th>\n",
       "      <td>2.0</td>\n",
       "      <td></td>\n",
       "      <td>a1idmi31weanaf</td>\n",
       "      <td>0020232233</td>\n",
       "      <td>mackenzie kent</td>\n",
       "      <td>comes dm screen space screen absolute premium ...</td>\n",
       "      <td>toys games grown-up toys games</td>\n",
       "      <td>gale force nine</td>\n",
       "      <td>toys games</td>\n",
       "      <td>-0.242857</td>\n",
       "      <td>Negative</td>\n",
       "    </tr>\n",
       "    <tr>\n",
       "      <th>1</th>\n",
       "      <td>1.0</td>\n",
       "      <td></td>\n",
       "      <td>a4bcevvz4y3v3</td>\n",
       "      <td>0020232233</td>\n",
       "      <td>jonathan christian</td>\n",
       "      <td>open letter galeforce9 unpainted miniatures ba...</td>\n",
       "      <td>toys games grown-up toys games</td>\n",
       "      <td>gale force nine</td>\n",
       "      <td>toys games</td>\n",
       "      <td>-0.019468</td>\n",
       "      <td>Negative</td>\n",
       "    </tr>\n",
       "    <tr>\n",
       "      <th>2</th>\n",
       "      <td>3.0</td>\n",
       "      <td></td>\n",
       "      <td>a2ez9py1ihhbx0</td>\n",
       "      <td>0020232233</td>\n",
       "      <td>unpreparedtodie</td>\n",
       "      <td>nice art nice printing two panels filled gener...</td>\n",
       "      <td>toys games grown-up toys games</td>\n",
       "      <td>gale force nine</td>\n",
       "      <td>toys games</td>\n",
       "      <td>0.118243</td>\n",
       "      <td>Positive</td>\n",
       "    </tr>\n",
       "    <tr>\n",
       "      <th>3</th>\n",
       "      <td>5.0</td>\n",
       "      <td></td>\n",
       "      <td>a139pxttc2lghz</td>\n",
       "      <td>0020232233</td>\n",
       "      <td>ashley</td>\n",
       "      <td>amazing buy bought gift new dm perfect</td>\n",
       "      <td>toys games grown-up toys games</td>\n",
       "      <td>gale force nine</td>\n",
       "      <td>toys games</td>\n",
       "      <td>0.578788</td>\n",
       "      <td>Positive</td>\n",
       "    </tr>\n",
       "    <tr>\n",
       "      <th>4</th>\n",
       "      <td>1.0</td>\n",
       "      <td></td>\n",
       "      <td>a3ib33v29xil8o</td>\n",
       "      <td>0020232233</td>\n",
       "      <td>oghma em</td>\n",
       "      <td>review gf9 previous screens completely unneces...</td>\n",
       "      <td>toys games grown-up toys games</td>\n",
       "      <td>gale force nine</td>\n",
       "      <td>toys games</td>\n",
       "      <td>-0.316667</td>\n",
       "      <td>Negative</td>\n",
       "    </tr>\n",
       "  </tbody>\n",
       "</table>\n",
       "</div>"
      ],
      "text/plain": [
       "   overall reviewTime      reviewerID        asin        reviewerName  \\\n",
       "0      2.0             a1idmi31weanaf  0020232233      mackenzie kent   \n",
       "1      1.0              a4bcevvz4y3v3  0020232233  jonathan christian   \n",
       "2      3.0             a2ez9py1ihhbx0  0020232233     unpreparedtodie   \n",
       "3      5.0             a139pxttc2lghz  0020232233              ashley   \n",
       "4      1.0             a3ib33v29xil8o  0020232233            oghma em   \n",
       "\n",
       "                                          reviewText  \\\n",
       "0  comes dm screen space screen absolute premium ...   \n",
       "1  open letter galeforce9 unpainted miniatures ba...   \n",
       "2  nice art nice printing two panels filled gener...   \n",
       "3             amazing buy bought gift new dm perfect   \n",
       "4  review gf9 previous screens completely unneces...   \n",
       "\n",
       "                         category            brand    main_cat  Polarity  \\\n",
       "0  toys games grown-up toys games  gale force nine  toys games -0.242857   \n",
       "1  toys games grown-up toys games  gale force nine  toys games -0.019468   \n",
       "2  toys games grown-up toys games  gale force nine  toys games  0.118243   \n",
       "3  toys games grown-up toys games  gale force nine  toys games  0.578788   \n",
       "4  toys games grown-up toys games  gale force nine  toys games -0.316667   \n",
       "\n",
       "   Analysis  \n",
       "0  Negative  \n",
       "1  Negative  \n",
       "2  Positive  \n",
       "3  Positive  \n",
       "4  Negative  "
      ]
     },
     "execution_count": 53,
     "metadata": {},
     "output_type": "execute_result"
    }
   ],
   "source": [
    "df['Polarity'] = df['reviewText'].apply(getPolarity) \n",
    "df['Analysis'] = df['Polarity'].apply(analysis)\n",
    "df.head()"
   ]
  },
  {
   "cell_type": "code",
   "execution_count": 54,
   "metadata": {},
   "outputs": [
    {
     "data": {
      "text/plain": [
       "Positive    6747280\n",
       "Negative     904967\n",
       "Neutral      739837\n",
       "Name: Analysis, dtype: int64"
      ]
     },
     "execution_count": 54,
     "metadata": {},
     "output_type": "execute_result"
    }
   ],
   "source": [
    "df.Analysis.value_counts()"
   ]
  },
  {
   "cell_type": "code",
   "execution_count": 55,
   "metadata": {
    "colab": {
     "base_uri": "https://localhost:8080/",
     "height": 635
    },
    "id": "F4y95JjJUFeB",
    "outputId": "4daf0b1b-5b36-49a3-f1e6-0f5122007a6c"
   },
   "outputs": [
    {
     "data": {
      "text/html": [
       "<div>\n",
       "<style scoped>\n",
       "    .dataframe tbody tr th:only-of-type {\n",
       "        vertical-align: middle;\n",
       "    }\n",
       "\n",
       "    .dataframe tbody tr th {\n",
       "        vertical-align: top;\n",
       "    }\n",
       "\n",
       "    .dataframe thead th {\n",
       "        text-align: right;\n",
       "    }\n",
       "</style>\n",
       "<table border=\"1\" class=\"dataframe\">\n",
       "  <thead>\n",
       "    <tr style=\"text-align: right;\">\n",
       "      <th></th>\n",
       "      <th>overall</th>\n",
       "      <th>reviewTime</th>\n",
       "      <th>reviewerID</th>\n",
       "      <th>asin</th>\n",
       "      <th>reviewerName</th>\n",
       "      <th>reviewText</th>\n",
       "      <th>category</th>\n",
       "      <th>brand</th>\n",
       "      <th>main_cat</th>\n",
       "      <th>Polarity</th>\n",
       "      <th>Analysis</th>\n",
       "    </tr>\n",
       "  </thead>\n",
       "  <tbody>\n",
       "    <tr>\n",
       "      <th>0</th>\n",
       "      <td>2.0</td>\n",
       "      <td></td>\n",
       "      <td>a1idmi31weanaf</td>\n",
       "      <td>0020232233</td>\n",
       "      <td>mackenzie kent</td>\n",
       "      <td>comes dm screen space screen absolute premium ...</td>\n",
       "      <td>toys games grown-up toys games</td>\n",
       "      <td>gale force nine</td>\n",
       "      <td>toys games</td>\n",
       "      <td>-0.242857</td>\n",
       "      <td>Negative</td>\n",
       "    </tr>\n",
       "    <tr>\n",
       "      <th>1</th>\n",
       "      <td>1.0</td>\n",
       "      <td></td>\n",
       "      <td>a4bcevvz4y3v3</td>\n",
       "      <td>0020232233</td>\n",
       "      <td>jonathan christian</td>\n",
       "      <td>open letter galeforce9 unpainted miniatures ba...</td>\n",
       "      <td>toys games grown-up toys games</td>\n",
       "      <td>gale force nine</td>\n",
       "      <td>toys games</td>\n",
       "      <td>-0.019468</td>\n",
       "      <td>Negative</td>\n",
       "    </tr>\n",
       "    <tr>\n",
       "      <th>2</th>\n",
       "      <td>3.0</td>\n",
       "      <td></td>\n",
       "      <td>a2ez9py1ihhbx0</td>\n",
       "      <td>0020232233</td>\n",
       "      <td>unpreparedtodie</td>\n",
       "      <td>nice art nice printing two panels filled gener...</td>\n",
       "      <td>toys games grown-up toys games</td>\n",
       "      <td>gale force nine</td>\n",
       "      <td>toys games</td>\n",
       "      <td>0.118243</td>\n",
       "      <td>Positive</td>\n",
       "    </tr>\n",
       "    <tr>\n",
       "      <th>3</th>\n",
       "      <td>5.0</td>\n",
       "      <td></td>\n",
       "      <td>a139pxttc2lghz</td>\n",
       "      <td>0020232233</td>\n",
       "      <td>ashley</td>\n",
       "      <td>amazing buy bought gift new dm perfect</td>\n",
       "      <td>toys games grown-up toys games</td>\n",
       "      <td>gale force nine</td>\n",
       "      <td>toys games</td>\n",
       "      <td>0.578788</td>\n",
       "      <td>Positive</td>\n",
       "    </tr>\n",
       "    <tr>\n",
       "      <th>4</th>\n",
       "      <td>1.0</td>\n",
       "      <td></td>\n",
       "      <td>a3ib33v29xil8o</td>\n",
       "      <td>0020232233</td>\n",
       "      <td>oghma em</td>\n",
       "      <td>review gf9 previous screens completely unneces...</td>\n",
       "      <td>toys games grown-up toys games</td>\n",
       "      <td>gale force nine</td>\n",
       "      <td>toys games</td>\n",
       "      <td>-0.316667</td>\n",
       "      <td>Negative</td>\n",
       "    </tr>\n",
       "  </tbody>\n",
       "</table>\n",
       "</div>"
      ],
      "text/plain": [
       "   overall reviewTime      reviewerID        asin        reviewerName  \\\n",
       "0      2.0             a1idmi31weanaf  0020232233      mackenzie kent   \n",
       "1      1.0              a4bcevvz4y3v3  0020232233  jonathan christian   \n",
       "2      3.0             a2ez9py1ihhbx0  0020232233     unpreparedtodie   \n",
       "3      5.0             a139pxttc2lghz  0020232233              ashley   \n",
       "4      1.0             a3ib33v29xil8o  0020232233            oghma em   \n",
       "\n",
       "                                          reviewText  \\\n",
       "0  comes dm screen space screen absolute premium ...   \n",
       "1  open letter galeforce9 unpainted miniatures ba...   \n",
       "2  nice art nice printing two panels filled gener...   \n",
       "3             amazing buy bought gift new dm perfect   \n",
       "4  review gf9 previous screens completely unneces...   \n",
       "\n",
       "                         category            brand    main_cat  Polarity  \\\n",
       "0  toys games grown-up toys games  gale force nine  toys games -0.242857   \n",
       "1  toys games grown-up toys games  gale force nine  toys games -0.019468   \n",
       "2  toys games grown-up toys games  gale force nine  toys games  0.118243   \n",
       "3  toys games grown-up toys games  gale force nine  toys games  0.578788   \n",
       "4  toys games grown-up toys games  gale force nine  toys games -0.316667   \n",
       "\n",
       "   Analysis  \n",
       "0  Negative  \n",
       "1  Negative  \n",
       "2  Positive  \n",
       "3  Positive  \n",
       "4  Negative  "
      ]
     },
     "execution_count": 55,
     "metadata": {},
     "output_type": "execute_result"
    }
   ],
   "source": [
    "df.head()"
   ]
  },
  {
   "cell_type": "code",
   "execution_count": 57,
   "metadata": {
    "colab": {
     "base_uri": "https://localhost:8080/"
    },
    "id": "hBmWtCjOUWFQ",
    "outputId": "b6e75822-a974-4376-b70d-9875778c0379"
   },
   "outputs": [],
   "source": [
    "# df=df.drop('title',axis=1)"
   ]
  },
  {
   "cell_type": "code",
   "execution_count": null,
   "metadata": {
    "id": "aDkhUb2e6rTs"
   },
   "outputs": [],
   "source": [
    "# df.to_csv('/content/drive/MyDrive/Project/main_toys.csv')"
   ]
  },
  {
   "cell_type": "code",
   "execution_count": null,
   "metadata": {
    "id": "XG0cvJuNTugk"
   },
   "outputs": [],
   "source": []
  },
  {
   "cell_type": "code",
   "execution_count": null,
   "metadata": {
    "id": "IZJ0PH_0Tujb"
   },
   "outputs": [],
   "source": []
  },
  {
   "cell_type": "code",
   "execution_count": null,
   "metadata": {
    "id": "LfT_M7kjTumW"
   },
   "outputs": [],
   "source": []
  },
  {
   "cell_type": "code",
   "execution_count": null,
   "metadata": {
    "id": "CIECFj9MTuo9"
   },
   "outputs": [],
   "source": []
  },
  {
   "cell_type": "code",
   "execution_count": null,
   "metadata": {
    "id": "TUsfk5LMTurf"
   },
   "outputs": [],
   "source": []
  },
  {
   "cell_type": "code",
   "execution_count": null,
   "metadata": {
    "id": "YNbvOduETuuP"
   },
   "outputs": [],
   "source": []
  },
  {
   "cell_type": "code",
   "execution_count": null,
   "metadata": {
    "id": "BNesXE2L6rfv"
   },
   "outputs": [],
   "source": []
  }
 ],
 "metadata": {
  "accelerator": "GPU",
  "colab": {
   "provenance": []
  },
  "gpuClass": "standard",
  "kernelspec": {
   "display_name": "Python 3 (ipykernel)",
   "language": "python",
   "name": "python3"
  },
  "language_info": {
   "codemirror_mode": {
    "name": "ipython",
    "version": 3
   },
   "file_extension": ".py",
   "mimetype": "text/x-python",
   "name": "python",
   "nbconvert_exporter": "python",
   "pygments_lexer": "ipython3",
   "version": "3.9.12"
  }
 },
 "nbformat": 4,
 "nbformat_minor": 1
}
